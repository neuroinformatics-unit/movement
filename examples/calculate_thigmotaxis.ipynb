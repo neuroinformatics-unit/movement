{
 "cells": [
  {
   "cell_type": "code",
   "execution_count": 80,
   "id": "d9d79bda",
   "metadata": {},
   "outputs": [],
   "source": [
    "import matplotlib.pyplot as plt\n",
    "from PIL import Image"
   ]
  },
  {
   "cell_type": "code",
   "execution_count": 89,
   "id": "5e37a6e3",
   "metadata": {},
   "outputs": [],
   "source": [
    "# central area is a PolygonOfInterest\n",
    "\n",
    "\n",
    "def compute_thigmotaxis_index(\n",
    "    central_area, positions, frame_path, plot_central_area=False\n",
    "):\n",
    "    # getting centroid\n",
    "    positions[\"centroid\"] = positions.mean(dim=\"keypoints\")\n",
    "\n",
    "    total_time = positions.sizes[\"time\"]\n",
    "\n",
    "    # getting points in ROI\n",
    "    points_in_ROI = central_region.contains_point(positions.centroid)\n",
    "    time_ind = points_in_ROI.sum(dim=\"time\")\n",
    "\n",
    "    # getting thigmotaxis index\n",
    "    thigmotaxis_index = 1 - (time_ind / total_time)\n",
    "\n",
    "    # printing ROI on arena figure\n",
    "    if plot_central_area == True:\n",
    "        frame = Image.open(frame_path)\n",
    "        height, width = frame.size\n",
    "\n",
    "        # plotting\n",
    "        fig, ROI_ax = plt.subplots()\n",
    "\n",
    "        # get background image\n",
    "        bg_img = Image.open(frame_path)\n",
    "        ROI_ax.imshow(bg_img)\n",
    "\n",
    "        central_area.plot(ROI_ax, facecolor=\"red\", alpha=0.25)\n",
    "        ROI_ax.legend()\n",
    "        ROI_ax.set_title(\"The given central area\")\n",
    "\n",
    "        ROI_fig.show()\n",
    "\n",
    "    return thigmotaxis_index"
   ]
  }
 ],
 "metadata": {
  "kernelspec": {
   "display_name": "movement-dev",
   "language": "python",
   "name": "python3"
  },
  "language_info": {
   "codemirror_mode": {
    "name": "ipython",
    "version": 3
   },
   "file_extension": ".py",
   "mimetype": "text/x-python",
   "name": "python",
   "nbconvert_exporter": "python",
   "pygments_lexer": "ipython3",
   "version": "3.13.5"
  }
 },
 "nbformat": 4,
 "nbformat_minor": 5
}
