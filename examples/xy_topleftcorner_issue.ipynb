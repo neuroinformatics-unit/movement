{
 "cells": [
  {
   "cell_type": "markdown",
   "metadata": {},
   "source": [
    "In this ipynb file, I m trying to incorporate some related issues which are leading of shift in centroid"
   ]
  },
  {
   "cell_type": "code",
   "execution_count": null,
   "metadata": {},
   "outputs": [
    {
     "name": "stderr",
     "output_type": "stream",
     "text": [
      "Downloading data from 'https://gin.g-node.org/neuroinformatics/movement-test-data/raw/master/metadata.yaml' to file '/home/mahima/.movement/data/temp_metadata.yaml'.\n",
      "SHA256 hash of downloaded file: 40a6d79722dcaf7cee39627959e46a1bc10a6e1405842a7c2993d6d69b4c8195\n",
      "Use this value as the 'known_hash' argument of 'pooch.retrieve' to ensure that the file hasn't changed if it is downloaded again in the future.\n"
     ]
    }
   ],
   "source": [
    "from movement import sample_data\n",
    "from movement.io import load_bboxes"
   ]
  },
  {
   "cell_type": "code",
   "execution_count": 2,
   "metadata": {},
   "outputs": [
    {
     "name": "stdout",
     "output_type": "stream",
     "text": [
      "/home/mahima/.movement/data/bboxes/VIA_single-crab_MOCA-crab-1.csv\n"
     ]
    }
   ],
   "source": [
    "dataset_dict = sample_data.fetch_dataset_paths(\n",
    "    \"VIA_single-crab_MOCA-crab-1.csv\",\n",
    "    with_video=True,  # download associated video\n",
    ")\n",
    "\n",
    "file_path = dataset_dict[\"bboxes\"]\n",
    "print(file_path)\n",
    "\n",
    "ds = load_bboxes.from_via_tracks_file(\n",
    "    file_path, use_frame_numbers_from_file=True\n",
    ")"
   ]
  },
  {
   "cell_type": "markdown",
   "metadata": {},
   "source": [
    "If we copy the address of the temp file ('/home/mahima/.movement/data/bboxes/VIA_single-crab_MOCA-crab-1.csv') and run it on napari, the csv file will track the centroid of the crab."
   ]
  },
  {
   "cell_type": "code",
   "execution_count": null,
   "metadata": {},
   "outputs": [],
   "source": [
    "# Now I will be converting this original ds x array back to a csv file\n",
    "# Ideally we expect it to trace the centroid since there is\n",
    "# no change in anything ,its just back and forth conversion\n",
    "# but\n",
    "# I had to include the centroid shifting code in the following\n",
    "# code t align it at the centre"
   ]
  },
  {
   "cell_type": "code",
   "execution_count": null,
   "metadata": {},
   "outputs": [],
   "source": [
    "import json\n",
    "\n",
    "\n",
    "def convert_to_via_format(ds, filename):\n",
    "    \"\"\"Convert Xarray dataset to VIA CSV format with\n",
    "    correctly formatted bounding boxes.\n",
    "    \"\"\"\n",
    "    df = ds.to_dataframe().reset_index()\n",
    "\n",
    "    # Pivot data to organize x, y, width, height correctly\n",
    "    df_pivot = df.pivot(\n",
    "        index=[\"time\"], columns=\"space\", values=[\"position\", \"shape\"]\n",
    "    )\n",
    "\n",
    "    # Flatten multi-index column names\n",
    "    df_pivot.columns = [\"x_center\", \"y_center\", \"width\", \"height\"]\n",
    "    df_pivot = df_pivot.reset_index()\n",
    "\n",
    "    # Convert centroid back to top-left corner\n",
    "    df_pivot[\"x\"] = df_pivot[\"x_center\"] - df_pivot[\"width\"] / 2\n",
    "    df_pivot[\"y\"] = df_pivot[\"y_center\"] - df_pivot[\"height\"] / 2\n",
    "\n",
    "    # Generate correct filenames\n",
    "    df_pivot[\"filename\"] = df_pivot[\"time\"].apply(\n",
    "        lambda t: f\"/crab_1/{t:05d}.jpg\"\n",
    "    )\n",
    "\n",
    "    # Add metadata fields\n",
    "    df_pivot[\"file_size\"] = 0\n",
    "    df_pivot[\"file_attributes\"] = json.dumps({\"shot\": 123})\n",
    "    df_pivot[\"region_count\"] = 1\n",
    "    df_pivot[\"region_id\"] = 0\n",
    "    df_pivot[\"region_attributes\"] = json.dumps({\"track\": 1})\n",
    "\n",
    "    # Convert into VIA bounding box format\n",
    "    df_pivot[\"region_shape_attributes\"] = df_pivot.apply(\n",
    "        lambda row: json.dumps(\n",
    "            {\n",
    "                \"name\": \"rect\",\n",
    "                \"x\": row[\"x\"],  # Corrected Top-Left Corner\n",
    "                \"y\": row[\"y\"],  # Corrected Top-Left Corner\n",
    "                \"width\": row[\"width\"],\n",
    "                \"height\": row[\"height\"],\n",
    "            }\n",
    "        ),\n",
    "        axis=1,\n",
    "    )\n",
    "\n",
    "    # Keep only required columns\n",
    "    df_final = df_pivot[\n",
    "        [\n",
    "            \"filename\",\n",
    "            \"file_size\",\n",
    "            \"file_attributes\",\n",
    "            \"region_count\",\n",
    "            \"region_id\",\n",
    "            \"region_shape_attributes\",\n",
    "            \"region_attributes\",\n",
    "        ]\n",
    "    ]\n",
    "\n",
    "    # Save to CSV\n",
    "    df_final.to_csv(filename, index=False)\n",
    "    print(f\" Saved: {filename}\")"
   ]
  },
  {
   "cell_type": "code",
   "execution_count": null,
   "metadata": {},
   "outputs": [
    {
     "name": "stdout",
     "output_type": "stream",
     "text": [
      " Saved: leftshift.csv\n"
     ]
    }
   ],
   "source": [
    "# Convert interpolated dataset and save\n",
    "convert_to_via_format(ds, \"shift.csv\")"
   ]
  },
  {
   "cell_type": "markdown",
   "metadata": {},
   "source": [
    "If I wouldn't have done this shift, it would give tracking of right corner of the body. "
   ]
  },
  {
   "cell_type": "markdown",
   "metadata": {},
   "source": []
  },
  {
   "cell_type": "code",
   "execution_count": null,
   "metadata": {},
   "outputs": [],
   "source": []
  }
 ],
 "metadata": {
  "kernelspec": {
   "display_name": "movement-env",
   "language": "python",
   "name": "python3"
  },
  "language_info": {
   "codemirror_mode": {
    "name": "ipython",
    "version": 3
   },
   "file_extension": ".py",
   "mimetype": "text/x-python",
   "name": "python",
   "nbconvert_exporter": "python",
   "pygments_lexer": "ipython3",
   "version": "3.12.9"
  }
 },
 "nbformat": 4,
 "nbformat_minor": 2
}
