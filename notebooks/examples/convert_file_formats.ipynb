{
  "cells": [
    {
      "cell_type": "markdown",
      "metadata": {},
      "source": [
        "# Convert pose tracks between file formats\n\nLoad pose tracks from one file format, modify them,\nand save them to another file format.\n"
      ]
    },
    {
      "cell_type": "markdown",
      "metadata": {},
      "source": [
        "## Motivation\nWhen working with pose estimation data, it's often useful to convert\nbetween file formats. For example, you may need to\nuse some downstream analysis tool that requires a specific file\nformat, or expects the keypoints to be named in a certain way.\n\nIn the following example, we will load a dataset from a\nSLEAP file, modify the keypoints (rename, delete, reorder),\nand save the modified dataset as a DeepLabCut file.\n\nWe'll first walk through each step separately, and then\ncombine them into a single function that can be applied\nto multiple files at once.\n\n"
      ]
    },
    {
      "cell_type": "markdown",
      "metadata": {},
      "source": [
        "## Imports\n\n"
      ]
    },
    {
      "cell_type": "code",
      "execution_count": null,
      "metadata": {
        "collapsed": false
      },
      "outputs": [],
      "source": [
        "import tempfile\nfrom pathlib import Path\n\nfrom movement import sample_data\nfrom movement.io import load_poses, save_poses"
      ]
    },
    {
      "cell_type": "markdown",
      "metadata": {},
      "source": [
        "## Load the dataset\nWe'll start with the path to a file output by one of\nour `supported pose estimation frameworks<target-formats>`.\nFor example, the path could be something like:\n\n"
      ]
    },
    {
      "cell_type": "code",
      "execution_count": null,
      "metadata": {
        "collapsed": false
      },
      "outputs": [],
      "source": [
        "# uncomment and edit the following line to point to your own local file\n# file_path = \"/path/to/my/data.h5\""
      ]
    },
    {
      "cell_type": "markdown",
      "metadata": {},
      "source": [
        "For the sake of this example, we will use the path to one of\nthe sample datasets provided with ``movement``.\n\n"
      ]
    },
    {
      "cell_type": "code",
      "execution_count": null,
      "metadata": {
        "collapsed": false
      },
      "outputs": [],
      "source": [
        "file_path = sample_data.fetch_dataset_paths(\n    \"SLEAP_single-mouse_EPM.analysis.h5\"\n)[\"poses\"]\nprint(file_path)"
      ]
    },
    {
      "cell_type": "markdown",
      "metadata": {},
      "source": [
        "Now let's load this file into a\n`movement poses dataset<target-poses-and-bboxes-dataset>`,\nwhich we can then modify to our liking.\n\n"
      ]
    },
    {
      "cell_type": "code",
      "execution_count": null,
      "metadata": {
        "collapsed": false
      },
      "outputs": [],
      "source": [
        "ds = load_poses.from_sleap_file(file_path, fps=30)\nprint(ds, \"\\n\")\nprint(\"Individuals:\", ds.coords[\"individuals\"].values)\nprint(\"Keypoints:\", ds.coords[\"keypoints\"].values)"
      ]
    },
    {
      "cell_type": "markdown",
      "metadata": {},
      "source": [
        "<div class=\"alert alert-info\"><h4>Note</h4><p>If you're running this code in a Jupyter notebook,\n    you can just type ``ds`` (instead of printing it)\n    to explore the dataset interactively.</p></div>\n\n"
      ]
    },
    {
      "cell_type": "markdown",
      "metadata": {},
      "source": [
        "## Rename keypoints\nWe start with a dictionary that maps old keypoint names to new ones.\nNext, we define a function that takes that dictionary and a dataset\nas inputs, and returns a modified dataset. Notice that under the hood\nthis function calls :meth:`xarray.Dataset.assign_coords`.\n\n"
      ]
    },
    {
      "cell_type": "code",
      "execution_count": null,
      "metadata": {
        "collapsed": false
      },
      "outputs": [],
      "source": [
        "rename_dict = {\n    \"snout\": \"nose\",\n    \"left_ear\": \"earL\",\n    \"right_ear\": \"earR\",\n    \"centre\": \"middle\",\n    \"tail_base\": \"tailbase\",\n    \"tail_end\": \"tailend\",\n}\n\n\ndef rename_keypoints(ds, rename_dict):\n    # get the current names of the keypoints\n    keypoint_names = ds.coords[\"keypoints\"].values\n\n    # rename the keypoints\n    if not rename_dict:\n        print(\"No keypoints to rename. Skipping renaming step.\")\n    else:\n        new_keypoints = [rename_dict.get(kp, str(kp)) for kp in keypoint_names]\n        # Assign the modified values back to the Dataset\n        ds = ds.assign_coords(keypoints=new_keypoints)\n    return ds"
      ]
    },
    {
      "cell_type": "markdown",
      "metadata": {},
      "source": [
        "Let's apply the function to our dataset and see the results.\n\n"
      ]
    },
    {
      "cell_type": "code",
      "execution_count": null,
      "metadata": {
        "collapsed": false
      },
      "outputs": [],
      "source": [
        "ds_renamed = rename_keypoints(ds, rename_dict)\nprint(\"Keypoints in modified dataset:\", ds_renamed.coords[\"keypoints\"].values)"
      ]
    },
    {
      "cell_type": "markdown",
      "metadata": {},
      "source": [
        "## Delete keypoints\nLet's create a list of keypoints to delete.\nIn this case, we choose to get rid of the ``tailend`` keypoint,\nwhich is often hard to reliably track.\nWe delete it using :meth:`xarray.Dataset.drop_sel`,\nwrapped in an appropriately named function.\n\n"
      ]
    },
    {
      "cell_type": "code",
      "execution_count": null,
      "metadata": {
        "collapsed": false
      },
      "outputs": [],
      "source": [
        "keypoints_to_delete = [\"tailend\"]\n\n\ndef delete_keypoints(ds, delete_keypoints):\n    if not delete_keypoints:\n        print(\"No keypoints to delete. Skipping deleting step.\")\n    else:\n        # Delete the specified keypoints and their corresponding data\n        ds = ds.drop_sel(keypoints=delete_keypoints)\n    return ds\n\n\nds_deleted = delete_keypoints(ds_renamed, keypoints_to_delete)\nprint(\"Keypoints in modified dataset:\", ds_deleted.coords[\"keypoints\"].values)"
      ]
    },
    {
      "cell_type": "markdown",
      "metadata": {},
      "source": [
        "## Reorder keypoints\nWe start with a list of keypoints in the desired order\n(in this case, we'll just swap the order of the left and right ears).\nWe then use :meth:`xarray.Dataset.reindex`, wrapped in yet another function.\n\n"
      ]
    },
    {
      "cell_type": "code",
      "execution_count": null,
      "metadata": {
        "collapsed": false
      },
      "outputs": [],
      "source": [
        "ordered_keypoints = [\"nose\", \"earR\", \"earL\", \"middle\", \"tailbase\"]\n\n\ndef reorder_keypoints(ds, ordered_keypoints):\n    if not ordered_keypoints:\n        print(\"No keypoints to reorder. Skipping reordering step.\")\n    else:\n        ds = ds.reindex(keypoints=ordered_keypoints)\n    return ds\n\n\nds_reordered = reorder_keypoints(ds_deleted, ordered_keypoints)\nprint(\n    \"Keypoints in modified dataset:\", ds_reordered.coords[\"keypoints\"].values\n)"
      ]
    },
    {
      "cell_type": "markdown",
      "metadata": {},
      "source": [
        "## Save the modified dataset\nNow that we have modified the dataset to our liking,\nlet's save it to a .csv file in the DeepLabCut format.\nIn this case, we save the file to a temporary\ndirectory, and we use the same file name\nas the original, but ending in ``_dlc.csv``.\nYou will need to specify a different ``target_dir`` and edit\nthe ``dest_path`` variable to your liking.\n\n"
      ]
    },
    {
      "cell_type": "code",
      "execution_count": null,
      "metadata": {
        "collapsed": false
      },
      "outputs": [],
      "source": [
        "target_dir = tempfile.mkdtemp()\ndest_path = Path(target_dir) / f\"{file_path.stem}_dlc.csv\"\n\nsave_poses.to_dlc_file(ds_reordered, dest_path, split_individuals=False)\nprint(f\"Saved modified dataset to {dest_path}.\")"
      ]
    },
    {
      "cell_type": "markdown",
      "metadata": {},
      "source": [
        "<div class=\"alert alert-info\"><h4>Note</h4><p>The ``split_individuals`` argument allows you to save\n    a dataset with multiple individuals as separate files,\n    with the individual ID appended to each file name.\n    In this case, we set it to ``False`` because we only have\n    one individual in the dataset, and we don't need its name\n    appended to the file name.</p></div>\n\n"
      ]
    },
    {
      "cell_type": "markdown",
      "metadata": {},
      "source": [
        "## One function to rule them all\nSince we know how to rename, delete, and reorder keypoints,\nlet's put it all together in a single function\nand see how we could apply it to multiple files at once,\nas we might do in a real-world scenario.\n\nThe following function will convert all files in a folder\n(that end with a specified suffix) from SLEAP to DeepLabCut format.\nEach file will be loaded, modified according to the\n``rename_dict``, ``keypoints_to_delete``, and ``ordered_keypoints``\nwe've defined above, and saved to the target directory.\n\n"
      ]
    },
    {
      "cell_type": "code",
      "execution_count": null,
      "metadata": {
        "collapsed": false
      },
      "outputs": [],
      "source": [
        "data_dir = \"/path/to/your/data/\"\ntarget_dir = \"/path/to/your/target/data/\"\n\n\ndef convert_all(data_dir, target_dir, suffix=\".slp\"):\n    source_folder = Path(data_dir)\n    file_paths = list(source_folder.rglob(f\"*{suffix}\"))\n\n    for file_path in file_paths:\n        file_path = Path(file_path)\n\n        # this determines the file names for the modified files\n        dest_path = Path(target_dir) / f\"{file_path.stem}_dlc.csv\"\n\n        if dest_path.exists():\n            print(f\"Skipping {file_path} as {dest_path} already exists.\")\n            continue\n\n        if file_path.exists():\n            print(f\"Processing: {file_path}\")\n            # load the data from SLEAP file\n            ds = load_poses.from_sleap_file(file_path)\n            # modify the data\n            ds_renamed = rename_keypoints(ds, rename_dict)\n            ds_deleted = delete_keypoints(ds_renamed, keypoints_to_delete)\n            ds_reordered = reorder_keypoints(ds_deleted, ordered_keypoints)\n            # save modified data to a DeepLabCut file\n            save_poses.to_dlc_file(\n                ds_reordered, dest_path, split_individuals=False\n            )\n        else:\n            raise ValueError(\n                f\"File '{file_path}' does not exist. \"\n                f\"Please check the file path and try again.\"\n            )"
      ]
    }
  ],
  "metadata": {
    "kernelspec": {
      "display_name": "Python 3",
      "language": "python",
      "name": "python3"
    },
    "language_info": {
      "codemirror_mode": {
        "name": "ipython",
        "version": 3
      },
      "file_extension": ".py",
      "mimetype": "text/x-python",
      "name": "python",
      "nbconvert_exporter": "python",
      "pygments_lexer": "ipython3",
      "version": "3.12.10"
    }
  },
  "nbformat": 4,
  "nbformat_minor": 0
}