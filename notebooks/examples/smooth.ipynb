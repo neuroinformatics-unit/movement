{
  "cells": [
    {
      "cell_type": "markdown",
      "metadata": {},
      "source": [
        "# Smooth pose tracks\n\nSmooth pose tracks using the rolling median and Savitzky-Golay filters.\n"
      ]
    },
    {
      "cell_type": "markdown",
      "metadata": {},
      "source": [
        "## Imports\n\n"
      ]
    },
    {
      "cell_type": "code",
      "execution_count": null,
      "metadata": {
        "collapsed": false
      },
      "outputs": [],
      "source": [
        "import matplotlib.pyplot as plt\nfrom scipy.signal import welch\n\nfrom movement import sample_data\nfrom movement.filtering import (\n    interpolate_over_time,\n    rolling_filter,\n    savgol_filter,\n)"
      ]
    },
    {
      "cell_type": "markdown",
      "metadata": {},
      "source": [
        "## Load a sample dataset\nLet's load a sample dataset and print it to inspect its contents.\nNote that if you are running this notebook interactively, you can simply\ntype the variable name (here ``ds_wasp``) in a cell to get an interactive\ndisplay of the dataset's contents.\n\n"
      ]
    },
    {
      "cell_type": "code",
      "execution_count": null,
      "metadata": {
        "collapsed": false
      },
      "outputs": [],
      "source": [
        "ds_wasp = sample_data.fetch_dataset(\"DLC_single-wasp.predictions.h5\")\nprint(ds_wasp)"
      ]
    },
    {
      "cell_type": "markdown",
      "metadata": {},
      "source": [
        "We see that the dataset contains the 2D pose tracks and confidence scores\nfor a single wasp, generated with DeepLabCut. The wasp is tracked at two\nkeypoints: \"head\" and \"stinger\" in a video that was recorded at 40 fps and\nlasts for approximately 27 seconds.\n\n"
      ]
    },
    {
      "cell_type": "markdown",
      "metadata": {},
      "source": [
        "## Define a plotting function\nLet's define a plotting function to help us visualise the effects of\nsmoothing both in the time and frequency domains.\nThe function takes as inputs two datasets containing raw and smooth data\nrespectively, and plots the position time series and power spectral density\n(PSD) for a given individual and keypoint. The function also allows you to\nspecify the spatial coordinate (``x`` or ``y``) and a time range to focus on.\n\n"
      ]
    },
    {
      "cell_type": "code",
      "execution_count": null,
      "metadata": {
        "collapsed": false
      },
      "outputs": [],
      "source": [
        "def plot_raw_and_smooth_timeseries_and_psd(\n    ds_raw,\n    ds_smooth,\n    individual=\"individual_0\",\n    keypoint=\"stinger\",\n    space=\"x\",\n    time_range=None,\n):\n    # If no time range is specified, plot the entire time series\n    if time_range is None:\n        time_range = slice(0, ds_raw.time[-1])\n\n    selection = {\n        \"time\": time_range,\n        \"individuals\": individual,\n        \"keypoints\": keypoint,\n        \"space\": space,\n    }\n\n    fig, ax = plt.subplots(2, 1, figsize=(10, 6))\n\n    for ds, color, label in zip(\n        [ds_raw, ds_smooth], [\"k\", \"r\"], [\"raw\", \"smooth\"], strict=False\n    ):\n        # plot position time series\n        pos = ds.position.sel(**selection)\n        ax[0].plot(\n            pos.time,\n            pos,\n            color=color,\n            lw=2,\n            alpha=0.7,\n            label=f\"{label} {space}\",\n        )\n\n        # interpolate data to remove NaNs in the PSD calculation\n        pos_interp = interpolate_over_time(pos, fill_value=\"extrapolate\")\n\n        # compute and plot the PSD\n        freq, psd = welch(pos_interp, fs=ds.fps, nperseg=256)\n        ax[1].semilogy(\n            freq,\n            psd,\n            color=color,\n            lw=2,\n            alpha=0.7,\n            label=f\"{label} {space}\",\n        )\n\n    ax[0].set_ylabel(f\"{space} position (px)\")\n    ax[0].set_xlabel(\"Time (s)\")\n    ax[0].set_title(\"Time Domain\")\n    ax[0].legend()\n\n    ax[1].set_ylabel(\"PSD (px$^2$/Hz)\")\n    ax[1].set_xlabel(\"Frequency (Hz)\")\n    ax[1].set_title(\"Frequency Domain\")\n    ax[1].legend()\n\n    plt.tight_layout()\n    fig.show()"
      ]
    },
    {
      "cell_type": "markdown",
      "metadata": {},
      "source": [
        "## Smoothing with a rolling median filter\nUsing the :func:`movement.filtering.rolling_filter` function on the\n``position`` data variable, we can apply a rolling median filter\nover a 0.1-second window (4 frames) to the wasp dataset.\nAs the ``window`` parameter is defined in *number of observations*,\nwe can simply multiply the desired time window by the frame rate\nof the video. We will also create a copy of the dataset to avoid\nmodifying the original data.\n\nHere we use the default ``statistic=\"median\"`` option, which is a sensible\nchoice for smoothing time-series data while being robust to outliers.\nYou can also use the ``rolling_filter`` function to compute the rolling\nmean, maximum, and minimum values (instead of the median), by\nsetting ``statistic`` to ``\"mean\"``, ``\"max\"``, or ``\"min\"``, respectively.\n\n"
      ]
    },
    {
      "cell_type": "code",
      "execution_count": null,
      "metadata": {
        "collapsed": false
      },
      "outputs": [],
      "source": [
        "window = int(0.1 * ds_wasp.fps)\nds_wasp_smooth = ds_wasp.copy()\nds_wasp_smooth.update(\n    {\n        \"position\": rolling_filter(\n            ds_wasp.position, window, statistic=\"median\", print_report=True\n        )\n    }\n)"
      ]
    },
    {
      "cell_type": "markdown",
      "metadata": {},
      "source": [
        "We see from the printed report that the dataset has no missing values\nneither before nor after smoothing. Let's visualise the effects of applying\nthe rolling median filter in the time and frequency domains.\n\n"
      ]
    },
    {
      "cell_type": "code",
      "execution_count": null,
      "metadata": {
        "collapsed": false
      },
      "outputs": [],
      "source": [
        "plot_raw_and_smooth_timeseries_and_psd(\n    ds_wasp, ds_wasp_smooth, keypoint=\"stinger\"\n)"
      ]
    },
    {
      "cell_type": "markdown",
      "metadata": {},
      "source": [
        "We see that applying the filter has removed the \"spikes\" present around the\n14 second mark in the raw data. However, it has not dealt with the big shift\noccurring during the final second. In the frequency domain, we can see that\nthe filter has reduced the power in the high-frequency components, without\naffecting the low frequency components.\n\nThis shows what the rolling median is good for: removing brief \"spikes\"\n(e.g. a keypoint abruptly jumping to a different location for a frame or two)\nand high-frequency \"jitter\" (often present due to pose estimation\nworking on a per-frame basis).\n\n"
      ]
    },
    {
      "cell_type": "markdown",
      "metadata": {},
      "source": [
        "### Choosing parameters for the rolling filter\nWe can control the behaviour of the rolling filter\nvia three parameters: ``window``, ``min_periods`` and ``statistic`` which was\nmentioned above.\nTo better understand the effect of these parameters, let's use a\ndataset that contains missing values.\n\n"
      ]
    },
    {
      "cell_type": "code",
      "execution_count": null,
      "metadata": {
        "collapsed": false
      },
      "outputs": [],
      "source": [
        "ds_mouse = sample_data.fetch_dataset(\"SLEAP_single-mouse_EPM.analysis.h5\")\nprint(ds_mouse)"
      ]
    },
    {
      "cell_type": "markdown",
      "metadata": {},
      "source": [
        "The dataset contains a single mouse with six keypoints tracked in\n2D space. The video was recorded at 30 fps and lasts for ~616 seconds. We can\nsee that there are some missing values, indicated as \"nan\" in the\nprinted dataset.\nLet's apply the rolling median filter over a 0.1-second window (3 frames)\nto the dataset.\n\n"
      ]
    },
    {
      "cell_type": "code",
      "execution_count": null,
      "metadata": {
        "collapsed": false
      },
      "outputs": [],
      "source": [
        "window = int(0.1 * ds_mouse.fps)\nds_mouse_smooth = ds_mouse.copy()\nds_mouse_smooth.update(\n    {\n        \"position\": rolling_filter(\n            ds_mouse.position, window, statistic=\"median\", print_report=True\n        )\n    }\n)"
      ]
    },
    {
      "cell_type": "markdown",
      "metadata": {},
      "source": [
        "The report informs us that the raw data contains NaN values, most of which\noccur at the ``snout`` and ``tail_end`` keypoints. After filtering, the\nnumber of NaNs has increased. This is because the default behaviour of the\nrolling filter is to propagate NaN values, i.e. if any value in the rolling\nwindow is NaN, the output will also be NaN.\n\nTo modify this behaviour, you can set the value of the ``min_periods``\nparameter to an integer value. This parameter determines the minimum number\nof non-NaN values required in the window for the output to be non-NaN.\nFor example, setting ``min_periods=2`` means that two non-NaN values in the\nwindow are sufficient for the median to be calculated. Let's try this.\n\n"
      ]
    },
    {
      "cell_type": "code",
      "execution_count": null,
      "metadata": {
        "collapsed": false
      },
      "outputs": [],
      "source": [
        "ds_mouse_smooth.update(\n    {\n        \"position\": rolling_filter(\n            ds_mouse.position,\n            window,\n            min_periods=2,\n            statistic=\"median\",\n            print_report=True,\n        )\n    }\n)"
      ]
    },
    {
      "cell_type": "markdown",
      "metadata": {},
      "source": [
        "We see that this time the number of NaN values has decreased\nacross all keypoints.\nLet's visualise the effects of the rolling median filter in the time and\nfrequency domains. Here we focus on the first 80 seconds for the ``snout``\nkeypoint. You can adjust the ``keypoint`` and ``time_range`` arguments to\nexplore other parts of the data.\n\n"
      ]
    },
    {
      "cell_type": "code",
      "execution_count": null,
      "metadata": {
        "collapsed": false
      },
      "outputs": [],
      "source": [
        "plot_raw_and_smooth_timeseries_and_psd(\n    ds_mouse, ds_mouse_smooth, keypoint=\"snout\", time_range=slice(0, 80)\n)"
      ]
    },
    {
      "cell_type": "markdown",
      "metadata": {},
      "source": [
        "The smoothing once again reduces the power of high-frequency components, but\nthe resulting time series stays quite close to the raw data.\n\nWhat happens if we increase the ``window`` to 2 seconds (60 frames)?\n\n"
      ]
    },
    {
      "cell_type": "code",
      "execution_count": null,
      "metadata": {
        "collapsed": false
      },
      "outputs": [],
      "source": [
        "window = int(2 * ds_mouse.fps)\nds_mouse_smooth.update(\n    {\n        \"position\": rolling_filter(\n            ds_mouse.position,\n            window,\n            min_periods=2,\n            statistic=\"median\",\n            print_report=True,\n        )\n    }\n)"
      ]
    },
    {
      "cell_type": "markdown",
      "metadata": {},
      "source": [
        "The number of NaN values has decreased even further.\nThat's because the chance of finding at least 2 valid values within\na 2-second window (i.e. 60 frames) is quite high.\nLet's plot the results for the same keypoint and time range\nas before.\n\n"
      ]
    },
    {
      "cell_type": "code",
      "execution_count": null,
      "metadata": {
        "collapsed": false
      },
      "outputs": [],
      "source": [
        "plot_raw_and_smooth_timeseries_and_psd(\n    ds_mouse, ds_mouse_smooth, keypoint=\"snout\", time_range=slice(0, 80)\n)"
      ]
    },
    {
      "cell_type": "markdown",
      "metadata": {},
      "source": [
        "We see that the filtered time series is much smoother and it has even\n\"bridged\" over some small gaps. That said, it often deviates from the raw\ndata, in ways that may not be desirable, depending on the application.\nHere, our choice of ``window`` may be too large.\nIn general, you should choose a ``window`` that is small enough to\npreserve the original data structure, but large enough to remove\n\"spikes\" and high-frequency noise. Always inspect the results to ensure\nthat the filter is not removing important features.\n\n"
      ]
    },
    {
      "cell_type": "markdown",
      "metadata": {},
      "source": [
        "## Smoothing with a Savitzky-Golay filter\nHere we apply the :func:`movement.filtering.savgol_filter` function\n(a wrapper around :func:`scipy.signal.savgol_filter`), to the ``position``\ndata variable.\nThe Savitzky-Golay filter is a polynomial smoothing filter that can be\napplied to time series data on a rolling window basis.\nA polynomial with a degree specified by ``polyorder`` is applied to each\ndata segment defined by the size ``window``.\nThe value of the polynomial at the midpoint of each ``window`` is then\nused as the output value.\n\nLet's try it on the mouse dataset, this time using a 0.2-second\nwindow (i.e. 6 frames) and the default ``polyorder=2`` for smoothing.\nAs before, we first compute the corresponding number of observations\nto be used as the ``window`` size.\n\n"
      ]
    },
    {
      "cell_type": "code",
      "execution_count": null,
      "metadata": {
        "collapsed": false
      },
      "outputs": [],
      "source": [
        "window = int(0.2 * ds_mouse.fps)\nds_mouse_smooth.update(\n    {\"position\": savgol_filter(ds_mouse.position, window, print_report=True)}\n)"
      ]
    },
    {
      "cell_type": "markdown",
      "metadata": {},
      "source": [
        "We see that the number of NaN values has increased after filtering. This is\nfor the same reason as with the rolling filter (in its default mode), i.e.\nif there is at least one NaN value in the window, the output will be NaN.\nUnlike the rolling filter, the Savitzky-Golay filter does not provide a\n``min_periods`` parameter to control this behaviour. Let's visualise the\neffects in the time and frequency domains.\n\n"
      ]
    },
    {
      "cell_type": "code",
      "execution_count": null,
      "metadata": {
        "collapsed": false
      },
      "outputs": [],
      "source": [
        "plot_raw_and_smooth_timeseries_and_psd(\n    ds_mouse, ds_mouse_smooth, keypoint=\"snout\", time_range=slice(0, 80)\n)"
      ]
    },
    {
      "cell_type": "markdown",
      "metadata": {},
      "source": [
        "Once again, the power of high-frequency components has been reduced, but more\nmissing values have been introduced.\n\n"
      ]
    },
    {
      "cell_type": "markdown",
      "metadata": {},
      "source": [
        "Now let's apply the same Savitzky-Golay filter to the wasp dataset.\n\n"
      ]
    },
    {
      "cell_type": "code",
      "execution_count": null,
      "metadata": {
        "collapsed": false
      },
      "outputs": [],
      "source": [
        "window = int(0.2 * ds_wasp.fps)\nds_wasp_smooth.update(\n    {\"position\": savgol_filter(ds_wasp.position, window, print_report=True)}\n)"
      ]
    },
    {
      "cell_type": "code",
      "execution_count": null,
      "metadata": {
        "collapsed": false
      },
      "outputs": [],
      "source": [
        "plot_raw_and_smooth_timeseries_and_psd(\n    ds_wasp, ds_wasp_smooth, keypoint=\"stinger\"\n)"
      ]
    },
    {
      "cell_type": "markdown",
      "metadata": {},
      "source": [
        "This example shows two important limitations of the Savitzky-Golay filter.\nFirst, the filter can introduce artefacts around sharp boundaries. For\nexample, focus on what happens around the sudden drop in position\nduring the final second. Second, the PSD appears to have large periodic\ndrops at certain frequencies. Both of these effects vary with the\nchoice of ``window`` and ``polyorder``. You can read more about these\nand other limitations of the Savitzky-Golay filter in\n[this paper](https://pubs.acs.org/doi/10.1021/acsmeasuresciau.1c00054).\n\n"
      ]
    },
    {
      "cell_type": "markdown",
      "metadata": {},
      "source": [
        "## Combining multiple smoothing filters\nWe can also combine multiple smoothing filters by applying them\nsequentially. For example, we can first apply the rolling median filter with\na small ``window`` to remove \"spikes\" and then apply the Savitzky-Golay\nfilter with a larger ``window`` to further smooth the data.\nBetween the two filters, we can interpolate over small gaps to avoid the\nexcessive proliferation of NaN values. Let's try this on the mouse dataset.\n\n"
      ]
    },
    {
      "cell_type": "code",
      "execution_count": null,
      "metadata": {
        "collapsed": false
      },
      "outputs": [],
      "source": [
        "# First, we will apply the rolling median filter.\nwindow = int(0.1 * ds_mouse.fps)\nds_mouse_smooth.update(\n    {\n        \"position\": rolling_filter(\n            ds_mouse.position, window, min_periods=2, statistic=\"median\"\n        )\n    }\n)\n\n# Next, let's linearly interpolate over gaps smaller\n# than 1 second (30 frames).\nds_mouse_smooth.update(\n    {\"position\": interpolate_over_time(ds_mouse_smooth.position, max_gap=30)}\n)\n\n# Finally, let's apply the Savitzky-Golay filter\n# over a 0.4-second window (12 frames).\nwindow = int(0.4 * ds_mouse.fps)\nds_mouse_smooth.update(\n    {\"position\": savgol_filter(ds_mouse_smooth.position, window)}\n)"
      ]
    },
    {
      "cell_type": "markdown",
      "metadata": {},
      "source": [
        "A record of all applied operations is stored in the ``log`` attribute of the\n``ds_mouse_smooth.position`` data array. Let's inspect it to summarise\nwhat we've done.\n\n"
      ]
    },
    {
      "cell_type": "code",
      "execution_count": null,
      "metadata": {
        "collapsed": false
      },
      "outputs": [],
      "source": [
        "for entry in ds_mouse_smooth.position.log:\n    print(entry)"
      ]
    },
    {
      "cell_type": "markdown",
      "metadata": {},
      "source": [
        "Now let's visualise the difference between the raw data and the final\nsmoothed result.\n\n"
      ]
    },
    {
      "cell_type": "code",
      "execution_count": null,
      "metadata": {
        "collapsed": false
      },
      "outputs": [],
      "source": [
        "plot_raw_and_smooth_timeseries_and_psd(\n    ds_mouse,\n    ds_mouse_smooth,\n    keypoint=\"snout\",\n    time_range=slice(0, 80),\n)"
      ]
    },
    {
      "cell_type": "markdown",
      "metadata": {},
      "source": [
        "Feel free to play around with the parameters of the applied filters and to\nalso look at other keypoints and time ranges.\n\n"
      ]
    },
    {
      "cell_type": "markdown",
      "metadata": {},
      "source": [
        ".. seealso::\n  `examples/filter_and_interpolate:Filtering multiple data variables`\n  in the\n  `sphx_glr_examples_filter_and_interpolate.py` example.\n\n"
      ]
    }
  ],
  "metadata": {
    "kernelspec": {
      "display_name": "Python 3",
      "language": "python",
      "name": "python3"
    },
    "language_info": {
      "codemirror_mode": {
        "name": "ipython",
        "version": 3
      },
      "file_extension": ".py",
      "mimetype": "text/x-python",
      "name": "python",
      "nbconvert_exporter": "python",
      "pygments_lexer": "ipython3",
      "version": "3.12.10"
    }
  },
  "nbformat": 4,
  "nbformat_minor": 0
}