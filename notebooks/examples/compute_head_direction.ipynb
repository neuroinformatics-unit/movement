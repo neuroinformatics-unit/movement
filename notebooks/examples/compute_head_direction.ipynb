{
  "cells": [
    {
      "cell_type": "markdown",
      "metadata": {},
      "source": [
        "# Compute head direction\n\nCompute the head direction vector and angle using different methods.\n"
      ]
    },
    {
      "cell_type": "markdown",
      "metadata": {},
      "source": [
        "## Imports\n\n"
      ]
    },
    {
      "cell_type": "code",
      "execution_count": null,
      "metadata": {
        "collapsed": false
      },
      "outputs": [],
      "source": [
        "# For interactive plots: install ipympl with `pip install ipympl` and uncomment\n# the following line in your notebook\n# %matplotlib widget\nimport numpy as np\nfrom matplotlib import pyplot as plt\n\nfrom movement import sample_data\nfrom movement.kinematics import (\n    compute_forward_vector,\n    compute_forward_vector_angle,\n)\nfrom movement.plots import plot_centroid_trajectory\nfrom movement.utils.vector import cart2pol, pol2cart"
      ]
    },
    {
      "cell_type": "markdown",
      "metadata": {},
      "source": [
        "## Load sample dataset\nIn this tutorial, we will use a sample dataset with a single individual\n(a mouse) and six keypoints.\n\n"
      ]
    },
    {
      "cell_type": "code",
      "execution_count": null,
      "metadata": {
        "collapsed": false
      },
      "outputs": [],
      "source": [
        "ds = sample_data.fetch_dataset(\"DLC_single-mouse_EPM.predictions.h5\")\n\nprint(ds)\nprint(\"-----------------------------\")\nprint(f\"Individuals: {ds.individuals.values}\")\nprint(f\"Keypoints: {ds.keypoints.values}\")"
      ]
    },
    {
      "cell_type": "markdown",
      "metadata": {},
      "source": [
        "The loaded dataset ``ds`` contains two data arrays:``position`` and\n``confidence``. In this tutorial, we will only use the ``position`` data\narray. We use the ``squeeze()`` method to remove\nthe redundant ``individuals`` dimension, as there is only one individual\nin this dataset.\n\n"
      ]
    },
    {
      "cell_type": "code",
      "execution_count": null,
      "metadata": {
        "collapsed": false
      },
      "outputs": [],
      "source": [
        "position = ds.position.squeeze()"
      ]
    },
    {
      "cell_type": "markdown",
      "metadata": {},
      "source": [
        "## Visualise the head trajectory\nWe can start by visualising the head trajectory, taking the midpoint\nbetween the ears as an estimate for the head centre.\nWe will overlay that on a single video frame that comes\nas part of the sample dataset.\n\nThe :func:`plot_centroid_trajectory()\\\n<movement.plots.trajectory.plot_centroid_trajectory>`\nfunction can help you visualise the trajectory of any keypoint in the data.\nPassing a list of keypoints, in this case ``[\"left_ear\", \"right_ear\"]``,\nwill plot the centroid (midpoint) of the selected keypoints.\nBy default, the first individual in the dataset is shown.\n\n"
      ]
    },
    {
      "cell_type": "code",
      "execution_count": null,
      "metadata": {
        "collapsed": false
      },
      "outputs": [],
      "source": [
        "# Create figure and axis\nfig, ax = plt.subplots(1, 1)\n\n# Plot a single frame from the dataset (its path is stored as an attribute)\nframe = plt.imread(ds.frame_path)\nax.imshow(frame)\n\n# Plot the trajectory of the head centre\nplot_centroid_trajectory(\n    ds.position,\n    keypoints=[\"left_ear\", \"right_ear\"],\n    ax=ax,\n    # arguments forwarded to plt.scatter\n    s=10,\n    cmap=\"viridis\",\n    marker=\"o\",\n    alpha=0.05,\n)\n\n# Adjust title\nax.set_title(\"Head trajectory\")\nax.set_ylim(frame.shape[0], 0)  # match y-axis limits to image coordinates\nax.set_xlabel(\"x (pixels)\")\nax.set_ylabel(\"y (pixels)\")\nax.collections[0].colorbar.set_label(\"Time (seconds)\")\nfig.show()"
      ]
    },
    {
      "cell_type": "markdown",
      "metadata": {},
      "source": [
        "We can see that most of the head trajectory data is within a\ncruciform shape, because the mouse is moving on an\n[Elevated Plus Maze](https://en.wikipedia.org/wiki/Elevated_plus_maze).\nThe plot suggests the mouse spends most of its time in the\ncovered arms of the maze (the vertical arms).\n\n"
      ]
    },
    {
      "cell_type": "markdown",
      "metadata": {},
      "source": [
        "## Compute the head-to-snout vector\nWe can define the head direction as the vector from the midpoint between\nthe ears to the snout.\n\n"
      ]
    },
    {
      "cell_type": "code",
      "execution_count": null,
      "metadata": {
        "collapsed": false
      },
      "outputs": [],
      "source": [
        "# Compute the head centre as the midpoint between the ears\nmidpoint_ears = position.sel(keypoints=[\"left_ear\", \"right_ear\"]).mean(\n    dim=\"keypoints\"\n)\n# Snout position\n# (`drop=True` removes the keypoints dimension, which is now redundant)\nsnout = position.sel(keypoints=\"snout\", drop=True)\n\n# Compute the head vector as the difference vector between the snout position\n# and the head-centre position.\nhead_to_snout = snout - midpoint_ears"
      ]
    },
    {
      "cell_type": "markdown",
      "metadata": {},
      "source": [
        ".. admonition:: Vector subtraction\n  :class: note\n\n  Note that any position data point can be seen as a point $U$ in the\n  2D plane, or as a 2D vector $\\vec{u}$ that goes from the image\n  coordinate system origin (by default, the centre of the top-left pixel)\n  to the point $U$ (see left subplot).\n\n  The vector that goes from point $U$ to point $V$ can be\n  computed as the difference $\\vec{v} - \\vec{u}$\n  (see right subplot).\n\n  .. image:: ../_static/Vector-Subtraction.png\n    :width: 600\n    :alt: Schematic showing vector subtraction\n\n"
      ]
    },
    {
      "cell_type": "markdown",
      "metadata": {},
      "source": [
        "Let's validate our computation by plotting the head-to-snout vector\nalongside the midpoint between the ears and the snout position.\nWe will do this for a small time window to make the plot more readable.\n\n"
      ]
    },
    {
      "cell_type": "code",
      "execution_count": null,
      "metadata": {
        "collapsed": false
      },
      "outputs": [],
      "source": [
        "# Time window to restrict the plot\ntime_window = slice(54.9, 55.1)  # seconds\n\nfig, ax = plt.subplots()\n\n# Plot the computed head-to-snout vector originating from the ears midpoint\nax.quiver(\n    midpoint_ears.sel(space=\"x\", time=time_window),\n    midpoint_ears.sel(space=\"y\", time=time_window),\n    head_to_snout.sel(space=\"x\", time=time_window),\n    head_to_snout.sel(space=\"y\", time=time_window),\n    color=\"gray\",\n    angles=\"xy\",\n    scale=1,\n    scale_units=\"xy\",\n    headwidth=4,\n    headlength=5,\n    headaxislength=5,\n    label=\"Head-to-snout vector\",\n)\n\n# Plot midpoint between the ears within the time window\nplot_centroid_trajectory(\n    midpoint_ears.sel(time=time_window),\n    ax=ax,\n    s=60,\n    label=\"ears midpoint\",\n)\n\n# Plot the snout position within the time window\nplot_centroid_trajectory(\n    snout.sel(time=time_window),\n    ax=ax,\n    s=60,\n    marker=\"*\",\n    label=\"snout\",\n)\n\n# Calling plot_centroid_trajectory twice will add 2 identical colorbars\n# so we remove 1\nax.collections[2].colorbar.remove()\n\nax.set_title(\"Zoomed in head-to-snout vectors\")\nax.invert_yaxis()  # invert y-axis to match image coordinates\nax.legend(loc=\"upper left\")"
      ]
    },
    {
      "cell_type": "markdown",
      "metadata": {},
      "source": [
        "## Head-to-snout vector in polar coordinates\nNow that we have the head-to-snout vector, we can compute its\nangle in 2D space. A convenient way to achieve that is to convert the\nvector from cartesian to polar coordinates using the\n:func:`cart2pol()<movement.utils.vector.cart2pol>` function.\n\n"
      ]
    },
    {
      "cell_type": "code",
      "execution_count": null,
      "metadata": {
        "collapsed": false
      },
      "outputs": [],
      "source": [
        "head_to_snout_polar = cart2pol(head_to_snout)\n\nprint(head_to_snout_polar)"
      ]
    },
    {
      "cell_type": "markdown",
      "metadata": {},
      "source": [
        "Notice how the resulting array has a ``space_pol`` dimension with two\ncoordinates: ``rho`` and ``phi``. These are the polar coordinates of the\nhead vector.\n\n.. admonition:: Polar coordinates\n  :class: note\n\n  The coordinate ``rho`` is the norm (i.e., magnitude, length) of the vector.\n  In our case, the distance from the midpoint between the ears to the snout.\n\n  The coordinate ``phi`` is the shortest angle (in radians) between the\n  positive x-axis and the  vector, and ranges from $-\\pi$ to\n  $\\pi$ (following the\n  [atan2](https://en.wikipedia.org/wiki/Atan2) convention).\n  The ``phi`` angle is positive if the rotation\n  from the positive x-axis to the vector is in the same direction as\n  the rotation from the positive x-axis to the positive y-axis.\n  In the default image coordinate system, this means  ``phi`` will be\n  positive if the rotation is clockwise, and negative if the rotation\n  is anti-clockwise.\n\n  .. image:: ../_static/Cartesian-vs-Polar.png\n    :width: 600\n    :alt: Schematic comparing cartesian and polar coordinates\n\n"
      ]
    },
    {
      "cell_type": "markdown",
      "metadata": {},
      "source": [
        "``movement`` also provides a ``pol2cart`` function to transform\ndata in polar coordinates to cartesian.\nNote that the resulting ``head_to_snout_cart`` array has a ``space``\ndimension with two coordinates: ``x`` and ``y``.\n\n"
      ]
    },
    {
      "cell_type": "code",
      "execution_count": null,
      "metadata": {
        "collapsed": false
      },
      "outputs": [],
      "source": [
        "head_to_snout_cart = pol2cart(head_to_snout_polar)\nprint(head_to_snout_cart)"
      ]
    },
    {
      "cell_type": "markdown",
      "metadata": {},
      "source": [
        "## Compute the \"forward\" vector\nWe can also estimate the head direction using the\n:func:`compute_forward_vector()<movement.kinematics.compute_forward_vector>`\nfunction, which takes a different approach to the one we used above:\nit accepts a pair of bilaterally symmetric keypoints and\ncomputes the vector that originates at the midpoint between the keypoints\nand is perpendicular to the line connecting them.\n\nHere we will use the two ears to find the head direction vector.\nWe may prefer this method if we expect the snout detection to be\nunreliable (e.g., because it's often occluded in a top-down camera view).\n\n"
      ]
    },
    {
      "cell_type": "code",
      "execution_count": null,
      "metadata": {
        "collapsed": false
      },
      "outputs": [],
      "source": [
        "forward_vector = compute_forward_vector(\n    position,\n    left_keypoint=\"left_ear\",\n    right_keypoint=\"right_ear\",\n    camera_view=\"top_down\",\n)\nprint(forward_vector)"
      ]
    },
    {
      "cell_type": "markdown",
      "metadata": {},
      "source": [
        ".. admonition:: Why do we need to specify the camera view?\n  :class: note\n\n  You can think about it in this way: in order to uniquely determine which\n  way is forward for an animal, we need to know the orientation of the other\n  two body axes: left-right and up-down. The left-right axis is specified\n  by the left and right keypoints passed to the function, while we use the\n  ``camera_view`` parameter to determine the upward direction (see image).\n  The default view is ``\"top_down\"``, but it can also be ``\"bottom_up\"``.\n  Other camera views are not supported at the moment.\n\n  .. image:: ../_static/Forward-Vector.png\n    :width: 600\n    :alt: Schematic showing forward vector in top-down and bottom-up views\n\n"
      ]
    },
    {
      "cell_type": "markdown",
      "metadata": {},
      "source": [
        "You can use ``compute_forward_vector`` to compute the perpendicular\nvector to any line connecting two bilaterally symmetric keypoints.\nFor example, you could estimate the forward direction for the pelvis given\ntwo keypoints at the hips.\n\nSpecifically for the head direction vector, you may also use the alias\n:func:`compute_head_direction_vector()\\\n<movement.kinematics.compute_head_direction_vector>`,\nwhich makes the intent of the function clearer.\n\n"
      ]
    },
    {
      "cell_type": "markdown",
      "metadata": {},
      "source": [
        "## Compute head direction angle\nWe may want to explicitly compute the orientation of the animal's head\nas an angle, rather than as a vector.\nWe can compute this angle from the forward vector as\nwe did with the head-to-snout vector, i.e., by converting the vector to\npolar coordinates and extracting the ``phi`` coordinate. However, it's\nmore convenient to use the :func:`compute_forward_vector_angle()\\\n<movement.kinematics.compute_forward_vector_angle>` function, which\nby default would return the same ``phi`` angle.\n\n"
      ]
    },
    {
      "cell_type": "code",
      "execution_count": null,
      "metadata": {
        "collapsed": false
      },
      "outputs": [],
      "source": [
        "forward_vector_angle = compute_forward_vector_angle(\n    position,\n    left_keypoint=\"left_ear\",\n    right_keypoint=\"right_ear\",\n    # Optional parameters:\n    reference_vector=(1, 0),  # positive x-axis\n    camera_view=\"top_down\",\n    in_degrees=False,  # set to True for degrees\n)\nprint(forward_vector_angle)"
      ]
    },
    {
      "cell_type": "markdown",
      "metadata": {},
      "source": [
        "The resulting ``forward_vector_angle`` array contains the head direction\nangle in radians, with respect to the positive x-axis. This means that\nthe angle is zero when the head vector is pointing to the right of the frame.\nWe could have also used an alternative reference vector, such as the\nnegative y-axis (pointing to the top edge of the frame) by setting\n``reference_vector=(0, -1)``.\n\n"
      ]
    },
    {
      "cell_type": "markdown",
      "metadata": {},
      "source": [
        "## Visualise head direction angles\nWe can compare the head direction angles computed from the two methods,\ni.e. the polar angle ``phi`` of the head-to-snout vector and the polar angle\nof the forward vector, by plotting their histograms in polar coordinates.\nFirst, let's define a custom plotting function that will help us with this.\n\n"
      ]
    },
    {
      "cell_type": "code",
      "execution_count": null,
      "metadata": {
        "collapsed": false
      },
      "outputs": [],
      "source": [
        "def plot_polar_histogram(da, bin_width_deg=15, ax=None):\n    \"\"\"Plot a polar histogram of the data in the given DataArray.\n\n    Parameters\n    ----------\n    da : xarray.DataArray\n        A DataArray containing angle data in radians.\n    bin_width_deg : int, optional\n        Width of the bins in degrees.\n    ax : matplotlib.axes.Axes, optional\n        The axes on which to plot the histogram.\n\n    \"\"\"\n    n_bins = int(360 / bin_width_deg)\n\n    if ax is None:\n        fig, ax = plt.subplots(  # initialise figure with polar projection\n            1, 1, figsize=(5, 5), subplot_kw={\"projection\": \"polar\"}\n        )\n    else:\n        fig = ax.figure  # or use the provided axes\n\n    # plot histogram using xarray's built-in histogram function\n    da.plot.hist(\n        bins=np.linspace(-np.pi, np.pi, n_bins + 1), ax=ax, density=True\n    )\n\n    # axes settings\n    ax.set_theta_direction(-1)  # theta increases in clockwise direction\n    ax.set_theta_offset(0)  # set zero at the right\n    ax.set_xlabel(\"\")  # remove default x-label from xarray's plot.hist()\n\n    # set xticks to match the phi values in degrees\n    n_xtick_edges = 9\n    ax.set_xticks(np.linspace(0, 2 * np.pi, n_xtick_edges)[:-1])\n    xticks_in_deg = (\n        list(range(0, 180 + 45, 45)) + list(range(0, -180, -45))[-1:0:-1]\n    )\n    ax.set_xticklabels([str(t) + \"\\N{DEGREE SIGN}\" for t in xticks_in_deg])\n\n    return fig, ax"
      ]
    },
    {
      "cell_type": "markdown",
      "metadata": {},
      "source": [
        "Now we can visualise the polar ``phi`` angles of the ``head_to_snout_polar``\narray alongside the values of the ``forward_vector_angle`` array.\n\n"
      ]
    },
    {
      "cell_type": "code",
      "execution_count": null,
      "metadata": {
        "collapsed": false
      },
      "outputs": [],
      "source": [
        "head_to_snout_angle = head_to_snout_polar.sel(space_pol=\"phi\")\nangle_arrays = [head_to_snout_angle, forward_vector_angle]\nangle_titles = [\"Head-to-snout\", \"Forward\"]\n\nfig, axes = plt.subplots(\n    1, 2, figsize=(10, 5), subplot_kw={\"projection\": \"polar\"}\n)\nfor i, angles in enumerate(angle_arrays):\n    title = angle_titles[i]\n    ax = axes[i]\n    plot_polar_histogram(angles, bin_width_deg=10, ax=ax)\n    ax.set_ylim(0, 0.25)  # force same y-scale (density) for both plots\n    ax.set_title(title, pad=25)"
      ]
    },
    {
      "cell_type": "markdown",
      "metadata": {},
      "source": [
        "We see that the angle histograms are not identical,\ni.e. the two methods of computing head angle do not always yield\nthe same results.\nHow large are the differences between the two methods?\nWe could check that by plotting a histogram of the differences.\n\n"
      ]
    },
    {
      "cell_type": "code",
      "execution_count": null,
      "metadata": {
        "collapsed": false
      },
      "outputs": [],
      "source": [
        "angles_diff = forward_vector_angle - head_to_snout_angle\nfig, ax = plot_polar_histogram(angles_diff, bin_width_deg=10)\nax.set_title(\"Forward vector angle - head-to-snout angle\", pad=25)"
      ]
    },
    {
      "cell_type": "markdown",
      "metadata": {},
      "source": [
        "For the majority of the time, the two methods\ndiffer less than 20 degrees (2 histogram bins).\n\n"
      ]
    }
  ],
  "metadata": {
    "kernelspec": {
      "display_name": "Python 3",
      "language": "python",
      "name": "python3"
    },
    "language_info": {
      "codemirror_mode": {
        "name": "ipython",
        "version": 3
      },
      "file_extension": ".py",
      "mimetype": "text/x-python",
      "name": "python",
      "nbconvert_exporter": "python",
      "pygments_lexer": "ipython3",
      "version": "3.12.10"
    }
  },
  "nbformat": 4,
  "nbformat_minor": 0
}