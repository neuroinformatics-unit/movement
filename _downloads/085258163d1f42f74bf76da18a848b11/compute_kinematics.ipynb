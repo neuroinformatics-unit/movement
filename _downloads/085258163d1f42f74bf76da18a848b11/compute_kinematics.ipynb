{
  "cells": [
    {
      "cell_type": "markdown",
      "metadata": {},
      "source": [
        "# Compute and visualise kinematics.\n\nCompute displacement, velocity and acceleration, and\nvisualise the results.\n"
      ]
    },
    {
      "cell_type": "markdown",
      "metadata": {},
      "source": [
        "## Imports\n\n"
      ]
    },
    {
      "cell_type": "code",
      "execution_count": null,
      "metadata": {
        "collapsed": false
      },
      "outputs": [],
      "source": [
        "# For interactive plots: install ipympl with `pip install ipympl` and uncomment\n# the following line in your notebook\n# %matplotlib widget\nfrom matplotlib import pyplot as plt\n\nimport movement.kinematics as kin\nfrom movement import sample_data\nfrom movement.plots import plot_centroid_trajectory\nfrom movement.utils.vector import compute_norm"
      ]
    },
    {
      "cell_type": "markdown",
      "metadata": {},
      "source": [
        "## Load sample dataset\nFirst, we load an example dataset. In this case, we select the\n``SLEAP_three-mice_Aeon_proofread`` sample data.\n\n"
      ]
    },
    {
      "cell_type": "code",
      "execution_count": null,
      "metadata": {
        "collapsed": false
      },
      "outputs": [],
      "source": [
        "ds = sample_data.fetch_dataset(\n    \"SLEAP_three-mice_Aeon_proofread.analysis.h5\",\n)\n\nprint(ds)"
      ]
    },
    {
      "cell_type": "markdown",
      "metadata": {},
      "source": [
        "We can see in the printed description of the dataset ``ds`` that\nthe data was acquired at 50 fps, and the time axis is expressed in seconds.\nIt includes data for three individuals(``AEON3B_NTP``, ``AEON3B_TP1``,\nand ``AEON3B_TP2``), and only one keypoint called ``centroid`` was tracked\nin ``x`` and ``y`` dimensions.\n\n"
      ]
    },
    {
      "cell_type": "markdown",
      "metadata": {},
      "source": [
        "The loaded dataset ``ds`` contains two data arrays:\n``position`` and ``confidence``.\nTo compute displacement, velocity and acceleration, we will need the\n``position`` one:\n\n"
      ]
    },
    {
      "cell_type": "code",
      "execution_count": null,
      "metadata": {
        "collapsed": false
      },
      "outputs": [],
      "source": [
        "position = ds.position"
      ]
    },
    {
      "cell_type": "markdown",
      "metadata": {},
      "source": [
        "## Visualise the data\nFirst, let's visualise the trajectories of the mice in the XY plane,\ncolouring them by individual. We use the ``plot_centroid_trajectory``\nfunction from ``movement.plots`` which is a wrapper around\n``matplotlib.pyplot.scatter`` that simplifies plotting the trajectories of\nindividuals in the dataset. The fig and ax objects returned can be used to\nfurther customise the plot.\n\n"
      ]
    },
    {
      "cell_type": "code",
      "execution_count": null,
      "metadata": {
        "collapsed": false
      },
      "outputs": [],
      "source": [
        "# Create a single figure and axes\nfig, ax = plt.subplots(1, 1)\n# Invert y-axis so (0,0) is in the top-left,\n# matching typical image coordinate systems\nax.invert_yaxis()\n# Plot trajectories for each mouse on the same axes\nfor mouse_name, col in zip(\n    position.individuals.values,\n    [\"r\", \"g\", \"b\"],  # colours\n    strict=False,\n):\n    plot_centroid_trajectory(\n        position,\n        individual=mouse_name,\n        ax=ax,  # Use the same axes for all plots\n        c=col,\n        marker=\"o\",\n        s=10,\n        alpha=0.2,\n        label=mouse_name,\n    )\n    ax.legend().set_alpha(1)\nfig.show()"
      ]
    },
    {
      "cell_type": "markdown",
      "metadata": {},
      "source": [
        "We can see that the trajectories of the three mice are close to a circular\narc. Notice that the x and y axes are set to equal scales, and that the\norigin of the coordinate system is at the top left of the image. This\nfollows the convention for SLEAP and most image processing tools.\n\n"
      ]
    },
    {
      "cell_type": "markdown",
      "metadata": {},
      "source": [
        "By default the ``plot_centroid_trajectory`` function in ``movement.plots``\ncolours data points based on their timestamps:\n\n"
      ]
    },
    {
      "cell_type": "code",
      "execution_count": null,
      "metadata": {
        "collapsed": false
      },
      "outputs": [],
      "source": [
        "fig, axes = plt.subplots(3, 1, sharey=True)\nfor mouse_name, ax in zip(position.individuals.values, axes, strict=False):\n    ax.invert_yaxis()\n    fig, ax = plot_centroid_trajectory(\n        position,\n        individual=mouse_name,\n        ax=ax,\n        s=2,\n    )\n    ax.set_title(f\"Trajectory {mouse_name}\")\n    ax.set_xlabel(\"x (pixels)\")\n    ax.set_ylabel(\"y (pixels)\")\n    ax.collections[0].colorbar.set_label(\"Time (frames)\")\nfig.tight_layout()\nfig.show()"
      ]
    },
    {
      "cell_type": "markdown",
      "metadata": {},
      "source": [
        "These plots show that for this snippet of the data,\ntwo of the mice (``AEON3B_NTP`` and ``AEON3B_TP1``)\nmoved around the circle in clockwise direction, and\nthe third mouse (``AEON3B_TP2``) followed an anti-clockwise direction.\n\n"
      ]
    },
    {
      "cell_type": "markdown",
      "metadata": {},
      "source": [
        "We can also easily plot the components of the position vector against time\nusing ``xarray``'s built-in plotting methods. We use\n:meth:`xarray.DataArray.squeeze` to\nremove the dimension of length 1 from the data (the ``keypoints`` dimension).\n\n"
      ]
    },
    {
      "cell_type": "code",
      "execution_count": null,
      "metadata": {
        "collapsed": false
      },
      "outputs": [],
      "source": [
        "position.squeeze().plot.line(x=\"time\", row=\"individuals\", aspect=2, size=2.5)\nplt.gcf().show()"
      ]
    },
    {
      "cell_type": "markdown",
      "metadata": {},
      "source": [
        "If we use ``xarray``'s plotting function, the axes units are automatically\ntaken from the data array. In our case, ``time`` is expressed in seconds,\nand the ``x`` and ``y`` coordinates of the ``position`` are in pixels.\n\n"
      ]
    },
    {
      "cell_type": "markdown",
      "metadata": {},
      "source": [
        "## Compute displacement\nThe :mod:`movement.kinematics` module provides functions to compute\nvarious kinematic quantities,\nsuch as displacement, velocity, and acceleration.\nWe can start off by computing the distance travelled by the mice along\ntheir trajectories:\n\n"
      ]
    },
    {
      "cell_type": "code",
      "execution_count": null,
      "metadata": {
        "collapsed": false
      },
      "outputs": [],
      "source": [
        "displacement = kin.compute_displacement(position)"
      ]
    },
    {
      "cell_type": "markdown",
      "metadata": {},
      "source": [
        "The :func:`movement.kinematics.compute_displacement`\nfunction will return a data array equivalent to the ``position`` one,\nbut holding displacement data along the ``space`` axis, rather than\nposition data.\n\nThe ``displacement`` data array holds, for a given individual and keypoint\nat timestep ``t``, the vector that goes from its previous position at time\n``t-1`` to its current position at time ``t``.\n\n"
      ]
    },
    {
      "cell_type": "markdown",
      "metadata": {},
      "source": [
        "And what happens at ``t=0``, since there is no previous timestep?\nWe define the displacement vector at time ``t=0`` to be the zero vector.\nThis way the shape of the ``displacement`` data array is the\nsame as the  ``position`` array:\n\n"
      ]
    },
    {
      "cell_type": "code",
      "execution_count": null,
      "metadata": {
        "collapsed": false
      },
      "outputs": [],
      "source": [
        "print(f\"Shape of position: {position.shape}\")\nprint(f\"Shape of displacement: {displacement.shape}\")"
      ]
    },
    {
      "cell_type": "markdown",
      "metadata": {},
      "source": [
        "We can visualise these displacement vectors with a quiver plot. In this case\nwe focus on the mouse ``AEON3B_TP2``:\n\n"
      ]
    },
    {
      "cell_type": "code",
      "execution_count": null,
      "metadata": {
        "collapsed": false
      },
      "outputs": [],
      "source": [
        "mouse_name = \"AEON3B_TP2\"\n\nfig = plt.figure()\nax = fig.add_subplot()\n\n# plot position data\nsc = ax.scatter(\n    position.sel(individuals=mouse_name, space=\"x\"),\n    position.sel(individuals=mouse_name, space=\"y\"),\n    s=15,\n    c=position.time,\n    cmap=\"viridis\",\n)\n\n# plot displacement vectors: at t, vector from t-1 to t\nax.quiver(\n    position.sel(individuals=mouse_name, space=\"x\"),\n    position.sel(individuals=mouse_name, space=\"y\"),\n    displacement.sel(individuals=mouse_name, space=\"x\"),\n    displacement.sel(individuals=mouse_name, space=\"y\"),\n    angles=\"xy\",\n    scale=1,\n    scale_units=\"xy\",\n    headwidth=7,\n    headlength=9,\n    headaxislength=9,\n)\n\nax.axis(\"equal\")\nax.set_xlim(450, 575)\nax.set_ylim(950, 1075)\nax.set_xlabel(\"x (pixels)\")\nax.set_ylabel(\"y (pixels)\")\nax.set_title(f\"Zoomed in trajectory of {mouse_name}\")\nax.invert_yaxis()\nfig.colorbar(sc, ax=ax, label=\"time (s)\")"
      ]
    },
    {
      "cell_type": "markdown",
      "metadata": {},
      "source": [
        "Notice that this figure is not very useful as a visual check:\nwe can see that there are vectors defined for each point in\nthe trajectory, but we have no easy way to verify they are indeed\nthe displacement vectors from ``t-1`` to ``t``.\n\n"
      ]
    },
    {
      "cell_type": "markdown",
      "metadata": {},
      "source": [
        "If instead we plot\nthe opposite of the displacement vector, we will see that at every time\n``t``, the vectors point to the position at ``t-1``.\nRemember that the displacement vector is defined as the vector at\ntime ``t``, that goes from the previous position ``t-1`` to the\ncurrent position at ``t``. Therefore, the opposite vector will point\nfrom the position point at ``t``, to the position point at ``t-1``.\n\n"
      ]
    },
    {
      "cell_type": "markdown",
      "metadata": {},
      "source": [
        "We can easily do this by flipping the sign of the displacement vector in\nthe plot above:\n\n"
      ]
    },
    {
      "cell_type": "code",
      "execution_count": null,
      "metadata": {
        "collapsed": false
      },
      "outputs": [],
      "source": [
        "mouse_name = \"AEON3B_TP2\"\n\nfig = plt.figure()\nax = fig.add_subplot()\n\n# plot position data\nsc = ax.scatter(\n    position.sel(individuals=mouse_name, space=\"x\"),\n    position.sel(individuals=mouse_name, space=\"y\"),\n    s=15,\n    c=position.time,\n    cmap=\"viridis\",\n)\n\n# plot displacement vectors: at t, vector from t-1 to t\nax.quiver(\n    position.sel(individuals=mouse_name, space=\"x\"),\n    position.sel(individuals=mouse_name, space=\"y\"),\n    -displacement.sel(individuals=mouse_name, space=\"x\"),  # flipped sign\n    -displacement.sel(individuals=mouse_name, space=\"y\"),  # flipped sign\n    angles=\"xy\",\n    scale=1,\n    scale_units=\"xy\",\n    headwidth=7,\n    headlength=9,\n    headaxislength=9,\n)\nax.axis(\"equal\")\nax.set_xlim(450, 575)\nax.set_ylim(950, 1075)\nax.set_xlabel(\"x (pixels)\")\nax.set_ylabel(\"y (pixels)\")\nax.set_title(f\"Zoomed in trajectory of {mouse_name}\")\nax.invert_yaxis()\nfig.colorbar(sc, ax=ax, label=\"time (s)\")"
      ]
    },
    {
      "cell_type": "markdown",
      "metadata": {},
      "source": [
        "Now we can visually verify that indeed the displacement vector\nconnects the previous and current positions as expected.\n\n"
      ]
    },
    {
      "cell_type": "markdown",
      "metadata": {},
      "source": [
        "With the displacement data we can compute the distance travelled by the\nmouse along its trajectory.\n\n"
      ]
    },
    {
      "cell_type": "code",
      "execution_count": null,
      "metadata": {
        "collapsed": false
      },
      "outputs": [],
      "source": [
        "# length of each displacement vector\ndisplacement_vectors_lengths = compute_norm(\n    displacement.sel(individuals=mouse_name)\n)\n\n# sum the lengths of all displacement vectors (in pixels)\ntotal_displacement = displacement_vectors_lengths.sum(dim=\"time\").values[0]\n\nprint(\n    f\"The mouse {mouse_name}'s trajectory is {total_displacement:.2f} \"\n    \"pixels long\"\n)"
      ]
    },
    {
      "cell_type": "markdown",
      "metadata": {},
      "source": [
        "## Compute velocity\nWe can easily compute the velocity vectors for all individuals in our data\narray:\n\n"
      ]
    },
    {
      "cell_type": "code",
      "execution_count": null,
      "metadata": {
        "collapsed": false
      },
      "outputs": [],
      "source": [
        "velocity = kin.compute_velocity(position)"
      ]
    },
    {
      "cell_type": "markdown",
      "metadata": {},
      "source": [
        "The :func:`movement.kinematics.compute_velocity`\nfunction will return a data array equivalent to\nthe ``position`` one, but holding velocity data along the ``space`` axis,\nrather than position data. Notice how ``xarray`` nicely deals with the\ndifferent individuals and spatial dimensions for us! \u2728\n\n"
      ]
    },
    {
      "cell_type": "markdown",
      "metadata": {},
      "source": [
        "We can plot the components of the velocity vector against time\nusing ``xarray``'s built-in plotting methods. We use\n:meth:`xarray.DataArray.squeeze` to\nremove the dimension of length 1 from the data (the ``keypoints`` dimension).\n\n"
      ]
    },
    {
      "cell_type": "code",
      "execution_count": null,
      "metadata": {
        "collapsed": false
      },
      "outputs": [],
      "source": [
        "velocity.squeeze().plot.line(x=\"time\", row=\"individuals\", aspect=2, size=2.5)\nplt.gcf().show()"
      ]
    },
    {
      "cell_type": "markdown",
      "metadata": {},
      "source": [
        "The components of the velocity vector seem noisier than the components of\nthe position vector.\nThis is expected, since we are deriving the velocity using differences in\nposition (which is somewhat noisy), over small stepsizes.\nMore specifically, we use numpy's gradient implementation, which\nuses second order central differences.\n\n"
      ]
    },
    {
      "cell_type": "markdown",
      "metadata": {},
      "source": [
        "We can also visualise the speed, as the magnitude (norm)\nof the velocity vector:\n\n"
      ]
    },
    {
      "cell_type": "code",
      "execution_count": null,
      "metadata": {
        "collapsed": false
      },
      "outputs": [],
      "source": [
        "fig, axes = plt.subplots(3, 1, sharex=True, sharey=True)\nfor mouse_name, ax in zip(velocity.individuals.values, axes, strict=False):\n    # compute the magnitude of the velocity vector for one mouse\n    speed_one_mouse = compute_norm(velocity.sel(individuals=mouse_name))\n    # plot speed against time\n    ax.plot(speed_one_mouse)\n    ax.set_title(mouse_name)\n    ax.set_xlabel(\"time (s)\")\n    ax.set_ylabel(\"speed (px/s)\")\nfig.tight_layout()"
      ]
    },
    {
      "cell_type": "markdown",
      "metadata": {},
      "source": [
        "To visualise the direction of the velocity vector at each timestep, we can\nuse a quiver plot:\n\n"
      ]
    },
    {
      "cell_type": "code",
      "execution_count": null,
      "metadata": {
        "collapsed": false
      },
      "outputs": [],
      "source": [
        "mouse_name = \"AEON3B_TP2\"\nfig = plt.figure()\nax = fig.add_subplot()\n# plot trajectory (position data)\nsc = ax.scatter(\n    position.sel(individuals=mouse_name, space=\"x\"),\n    position.sel(individuals=mouse_name, space=\"y\"),\n    s=15,\n    c=position.time,\n    cmap=\"viridis\",\n)\n# plot velocity vectors\nax.quiver(\n    position.sel(individuals=mouse_name, space=\"x\"),\n    position.sel(individuals=mouse_name, space=\"y\"),\n    velocity.sel(individuals=mouse_name, space=\"x\"),\n    velocity.sel(individuals=mouse_name, space=\"y\"),\n    angles=\"xy\",\n    scale=2,\n    scale_units=\"xy\",\n    color=\"r\",\n)\nax.axis(\"equal\")\nax.set_xlabel(\"x (pixels)\")\nax.set_ylabel(\"y (pixels)\")\nax.set_title(f\"Velocity quiver plot for {mouse_name}\")\nax.invert_yaxis()\nfig.colorbar(sc, ax=ax, label=\"time (s)\")\nfig.show()"
      ]
    },
    {
      "cell_type": "markdown",
      "metadata": {},
      "source": [
        "Here we scaled the length of vectors to half of their actual value\n(``scale=2``) for easier visualisation.\n\n"
      ]
    },
    {
      "cell_type": "markdown",
      "metadata": {},
      "source": [
        "## Compute acceleration\nLet's now compute the acceleration for all individuals in our data\narray:\n\n"
      ]
    },
    {
      "cell_type": "code",
      "execution_count": null,
      "metadata": {
        "collapsed": false
      },
      "outputs": [],
      "source": [
        "accel = kin.compute_acceleration(position)"
      ]
    },
    {
      "cell_type": "markdown",
      "metadata": {},
      "source": [
        "and plot of the components of the acceleration vector ``ax``, ``ay`` per\nindividual:\n\n"
      ]
    },
    {
      "cell_type": "code",
      "execution_count": null,
      "metadata": {
        "collapsed": false
      },
      "outputs": [],
      "source": [
        "fig, axes = plt.subplots(3, 1, sharex=True, sharey=True)\nfor mouse_name, ax in zip(accel.individuals.values, axes, strict=False):\n    # plot x-component of acceleration vector\n    ax.plot(\n        accel.sel(individuals=mouse_name, space=[\"x\"]).squeeze(),\n        label=\"ax\",\n    )\n    # plot y-component of acceleration vector\n    ax.plot(\n        accel.sel(individuals=mouse_name, space=[\"y\"]).squeeze(),\n        label=\"ay\",\n    )\n    ax.set_title(mouse_name)\n    ax.set_xlabel(\"time (s)\")\n    ax.set_ylabel(\"speed (px/s**2)\")\n    ax.legend(loc=\"center right\", bbox_to_anchor=(1.07, 1.07))\nfig.tight_layout()"
      ]
    },
    {
      "cell_type": "markdown",
      "metadata": {},
      "source": [
        "We can also compute and visualise the magnitude (norm) of the\nacceleration vector for each individual:\n\n"
      ]
    },
    {
      "cell_type": "code",
      "execution_count": null,
      "metadata": {
        "collapsed": false
      },
      "outputs": [],
      "source": [
        "fig, axes = plt.subplots(3, 1, sharex=True, sharey=True)\nfor mouse_name, ax in zip(accel.individuals.values, axes, strict=False):\n    # compute magnitude of the acceleration vector for one mouse\n    accel_one_mouse = compute_norm(accel.sel(individuals=mouse_name))\n\n    # plot acceleration against time\n    ax.plot(accel_one_mouse)\n    ax.set_title(mouse_name)\n    ax.set_xlabel(\"time (s)\")\n    ax.set_ylabel(\"accel (px/s**2)\")\nfig.tight_layout()"
      ]
    }
  ],
  "metadata": {
    "kernelspec": {
      "display_name": "Python 3",
      "language": "python",
      "name": "python3"
    },
    "language_info": {
      "codemirror_mode": {
        "name": "ipython",
        "version": 3
      },
      "file_extension": ".py",
      "mimetype": "text/x-python",
      "name": "python",
      "nbconvert_exporter": "python",
      "pygments_lexer": "ipython3",
      "version": "3.12.10"
    }
  },
  "nbformat": 4,
  "nbformat_minor": 0
}