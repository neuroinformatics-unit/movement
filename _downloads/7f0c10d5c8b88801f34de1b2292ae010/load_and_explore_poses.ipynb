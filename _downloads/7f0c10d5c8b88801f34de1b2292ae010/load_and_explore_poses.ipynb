{
  "cells": [
    {
      "cell_type": "markdown",
      "metadata": {},
      "source": [
        "# Load and explore pose tracks\n\nLoad and explore an example dataset of pose tracks.\n"
      ]
    },
    {
      "cell_type": "markdown",
      "metadata": {},
      "source": [
        "## Imports\n\n"
      ]
    },
    {
      "cell_type": "code",
      "execution_count": null,
      "metadata": {
        "collapsed": false
      },
      "outputs": [],
      "source": [
        "from movement import sample_data\nfrom movement.io import load_poses\nfrom movement.plots import plot_centroid_trajectory"
      ]
    },
    {
      "cell_type": "markdown",
      "metadata": {},
      "source": [
        "## Define the file path\nThis should be a file output by one of our supported pose estimation\nframeworks (e.g., DeepLabCut, SLEAP), containing predicted pose tracks.\nFor example, the path could be something like:\n\n"
      ]
    },
    {
      "cell_type": "code",
      "execution_count": null,
      "metadata": {
        "collapsed": false
      },
      "outputs": [],
      "source": [
        "# uncomment and edit the following line to point to your own local file\n# file_path = \"/path/to/my/data.h5\""
      ]
    },
    {
      "cell_type": "markdown",
      "metadata": {},
      "source": [
        "For the sake of this example, we will use the path to one of\nthe sample datasets provided with ``movement``.\n\n"
      ]
    },
    {
      "cell_type": "code",
      "execution_count": null,
      "metadata": {
        "collapsed": false
      },
      "outputs": [],
      "source": [
        "file_path = sample_data.fetch_dataset_paths(\n    \"SLEAP_three-mice_Aeon_proofread.analysis.h5\"\n)[\"poses\"]\nprint(file_path)"
      ]
    },
    {
      "cell_type": "markdown",
      "metadata": {},
      "source": [
        "## Load the data into movement\n\n"
      ]
    },
    {
      "cell_type": "code",
      "execution_count": null,
      "metadata": {
        "collapsed": false
      },
      "outputs": [],
      "source": [
        "ds = load_poses.from_sleap_file(file_path, fps=50)\nprint(ds)"
      ]
    },
    {
      "cell_type": "markdown",
      "metadata": {},
      "source": [
        "The loaded dataset contains two data variables:\n``position`` and ``confidence``.\nTo get the position data:\n\n"
      ]
    },
    {
      "cell_type": "code",
      "execution_count": null,
      "metadata": {
        "collapsed": false
      },
      "outputs": [],
      "source": [
        "position = ds.position"
      ]
    },
    {
      "cell_type": "markdown",
      "metadata": {},
      "source": [
        "## Select and plot data with xarray\nYou can use the ``sel`` method to index into ``xarray`` objects.\nFor example, we can get a ``DataArray`` containing only data\nfor a single keypoint of the first individual:\n\n"
      ]
    },
    {
      "cell_type": "code",
      "execution_count": null,
      "metadata": {
        "collapsed": false
      },
      "outputs": [],
      "source": [
        "da = position.sel(individuals=\"AEON3B_NTP\", keypoints=\"centroid\")\nprint(da)"
      ]
    },
    {
      "cell_type": "markdown",
      "metadata": {},
      "source": [
        "We could plot the x, y coordinates of this keypoint over time,\nusing ``xarray``'s built-in plotting methods:\n\n"
      ]
    },
    {
      "cell_type": "code",
      "execution_count": null,
      "metadata": {
        "collapsed": false
      },
      "outputs": [],
      "source": [
        "da.plot.line(x=\"time\", row=\"space\", aspect=2, size=2.5)"
      ]
    },
    {
      "cell_type": "markdown",
      "metadata": {},
      "source": [
        "Similarly we could plot the same keypoint's x, y coordinates\nfor all individuals:\n\n"
      ]
    },
    {
      "cell_type": "code",
      "execution_count": null,
      "metadata": {
        "collapsed": false
      },
      "outputs": [],
      "source": [
        "da = position.sel(keypoints=\"centroid\")\nda.plot.line(x=\"time\", row=\"individuals\", aspect=2, size=2.5)"
      ]
    },
    {
      "cell_type": "markdown",
      "metadata": {},
      "source": [
        "## Trajectory plots\nWe are not limited to ``xarray``'s built-in plots.\nThe ``movement.plots`` module provides some additional\nvisualisations, like ``plot_centroid_trajectory()``.\n\n"
      ]
    },
    {
      "cell_type": "code",
      "execution_count": null,
      "metadata": {
        "collapsed": false
      },
      "outputs": [],
      "source": [
        "mouse_name = \"AEON3B_TP1\"\nfig, ax = plot_centroid_trajectory(position, individual=mouse_name)\nfig.show()"
      ]
    }
  ],
  "metadata": {
    "kernelspec": {
      "display_name": "Python 3",
      "language": "python",
      "name": "python3"
    },
    "language_info": {
      "codemirror_mode": {
        "name": "ipython",
        "version": 3
      },
      "file_extension": ".py",
      "mimetype": "text/x-python",
      "name": "python",
      "nbconvert_exporter": "python",
      "pygments_lexer": "ipython3",
      "version": "3.12.10"
    }
  },
  "nbformat": 4,
  "nbformat_minor": 0
}