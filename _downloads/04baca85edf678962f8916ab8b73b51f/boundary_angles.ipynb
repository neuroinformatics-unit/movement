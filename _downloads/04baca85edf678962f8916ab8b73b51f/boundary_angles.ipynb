{
  "cells": [
    {
      "cell_type": "markdown",
      "metadata": {},
      "source": [
        "# Compute distances and angles to regions of interest\n\nCompute distances, approach vectors, and both egocentric and allocentric\nboundary angles relative to regions of interest (RoIs).\n"
      ]
    },
    {
      "cell_type": "markdown",
      "metadata": {},
      "source": [
        "## Imports\n\n"
      ]
    },
    {
      "cell_type": "code",
      "execution_count": null,
      "metadata": {
        "collapsed": false
      },
      "outputs": [],
      "source": [
        "# For interactive plots: install ipympl with `pip install ipympl` and uncomment\n# the following lines in your notebook\n# %matplotlib widget\nimport matplotlib.pyplot as plt\nimport numpy as np\nimport xarray as xr\n\nfrom movement import sample_data\nfrom movement.kinematics import compute_velocity\nfrom movement.plots import plot_centroid_trajectory\nfrom movement.roi import PolygonOfInterest"
      ]
    },
    {
      "cell_type": "markdown",
      "metadata": {},
      "source": [
        "## Load sample dataset\nIn this example, we will use the ``SLEAP_three-mice_Aeon_proofread`` example\ndataset. We only need the ``position`` data array, so we store it in a\nseparate variable.\n\n"
      ]
    },
    {
      "cell_type": "code",
      "execution_count": null,
      "metadata": {
        "collapsed": false
      },
      "outputs": [],
      "source": [
        "ds = sample_data.fetch_dataset(\"SLEAP_three-mice_Aeon_proofread.analysis.h5\")\npositions: xr.DataArray = ds.position"
      ]
    },
    {
      "cell_type": "markdown",
      "metadata": {},
      "source": [
        "The data we have loaded used an arena setup that we have plotted below.\n\n"
      ]
    },
    {
      "cell_type": "code",
      "execution_count": null,
      "metadata": {
        "collapsed": false
      },
      "outputs": [],
      "source": [
        "arena_fig, arena_ax = plt.subplots(1, 1)\n# Overlay an image of the experimental arena\narena_image = ds.frame_path\narena_ax.imshow(plt.imread(arena_image))\n\narena_ax.set_xlabel(\"x (pixels)\")\narena_ax.set_ylabel(\"y (pixels)\")\n\narena_fig.show()"
      ]
    },
    {
      "cell_type": "markdown",
      "metadata": {},
      "source": [
        "The\n[arena](https://sainsburywellcomecentre.github.io/aeon_docs/reference/hardware/habitat.html)\nis divided up into three main sub-regions. The cuboidal structure\non the right-hand-side of the arena is the nest of the three individuals\ntaking part in the experiment. The majority of the arena is an open\noctadecagonal (18-sided) shape, which is the bright central region that\nencompasses most of the image. This central region is surrounded by a\n(comparatively thin) \"ring\", which links the central region to the nest.\nIn this example, we will look at how we can use the functionality for regions\nof interest (RoIs) provided by ``movement`` to analyse our sample dataset.\n\n"
      ]
    },
    {
      "cell_type": "markdown",
      "metadata": {},
      "source": [
        "## Define regions of interest\nIn order to ask questions about the behaviour of our individuals with respect\nto the arena, we first need to define the RoIs to represent the separate\npieces of our arena programmatically. Since each part of our arena is\ntwo-dimensional, we will use a ``PolygonOfInterest`` to describe each of\nthem.\n\nIn the future, the\n[movement plugin for napari](../user_guide/gui.md)\nwill support creating regions of interest by clicking points and drawing\nshapes in the napari GUI. For the time being, we can still define our RoIs\nby specifying the points that make up the interior and exterior boundaries.\nSo first, let's define the boundary vertices of our various regions.\n\n"
      ]
    },
    {
      "cell_type": "code",
      "execution_count": null,
      "metadata": {
        "collapsed": false
      },
      "outputs": [],
      "source": [
        "# The centre of the arena is located roughly here\ncentre = np.array([712.5, 541])\n# The \"width\" (distance between the inner and outer octadecagonal rings) is 40\n# pixels wide\nring_width = 40.0\n# The distance between opposite vertices of the outer ring is 1090 pixels\nring_extent = 1090.0\n\n# Create the vertices of a \"unit\" octadecagon, centred on (0,0)\nn_pts = 18\nunit_shape = np.array(\n    [\n        np.exp((np.pi / 2.0 + (2.0 * i * np.pi) / n_pts) * 1.0j)\n        for i in range(n_pts)\n    ],\n    dtype=complex,\n)\n# Then stretch and translate the reference to match our arena\nring_outer_boundary = ring_extent / 2.0 * unit_shape.copy()\nring_outer_boundary = (\n    np.array([ring_outer_boundary.real, ring_outer_boundary.imag]).transpose()\n    + centre\n)\ncore_boundary = (ring_extent - ring_width) / 2.0 * unit_shape.copy()\ncore_boundary = (\n    np.array([core_boundary.real, core_boundary.imag]).transpose() + centre\n)\n\nnest_corners = ((1245, 585), (1245, 475), (1330, 480), (1330, 580))"
      ]
    },
    {
      "cell_type": "markdown",
      "metadata": {},
      "source": [
        "Our central region is a solid shape without any interior holes.\nTo create the appropriate RoI, we just pass the coordinates in either\nclockwise or counter-clockwise order.\n\n"
      ]
    },
    {
      "cell_type": "code",
      "execution_count": null,
      "metadata": {
        "collapsed": false
      },
      "outputs": [],
      "source": [
        "central_region = PolygonOfInterest(core_boundary, name=\"Central region\")"
      ]
    },
    {
      "cell_type": "markdown",
      "metadata": {},
      "source": [
        "Likewise, the nest is also just a solid shape without any holes.\nNote that we are only registering the \"floor\" of the nest here.\n\n"
      ]
    },
    {
      "cell_type": "code",
      "execution_count": null,
      "metadata": {
        "collapsed": false
      },
      "outputs": [],
      "source": [
        "nest_region = PolygonOfInterest(nest_corners, name=\"Nest region\")"
      ]
    },
    {
      "cell_type": "markdown",
      "metadata": {},
      "source": [
        "To create an RoI representing the ring region, we need to provide an interior\nboundary so that ``movement`` knows our ring region has a \"hole\".\n``movement``'s ``PolygonsOfInterest`` can actually support multiple\n(non-overlapping) holes, which is why the ``holes`` argument takes a\n``list``.\n\n"
      ]
    },
    {
      "cell_type": "code",
      "execution_count": null,
      "metadata": {
        "collapsed": false
      },
      "outputs": [],
      "source": [
        "ring_region = PolygonOfInterest(\n    ring_outer_boundary, holes=[core_boundary], name=\"Ring region\"\n)\n\narena_fig, arena_ax = plt.subplots(1, 1)\n# Overlay an image of the experimental arena\narena_ax.imshow(plt.imread(arena_image))\n\ncentral_region.plot(arena_ax, facecolor=\"lightblue\", alpha=0.25)\nnest_region.plot(arena_ax, facecolor=\"green\", alpha=0.25)\nring_region.plot(arena_ax, facecolor=\"blue\", alpha=0.25)\narena_ax.legend()\narena_fig.show()"
      ]
    },
    {
      "cell_type": "markdown",
      "metadata": {},
      "source": [
        "## View individual paths inside the arena\nWe can now overlay the paths that the individuals followed on top of our\nimage of the arena and the RoIs that we have defined.\n\n"
      ]
    },
    {
      "cell_type": "code",
      "execution_count": null,
      "metadata": {
        "collapsed": false
      },
      "outputs": [],
      "source": [
        "arena_fig, arena_ax = plt.subplots(1, 1)\n# Overlay an image of the experimental arena\narena_ax.imshow(plt.imread(arena_image))\n\ncentral_region.plot(arena_ax, facecolor=\"lightblue\", alpha=0.25)\nnest_region.plot(arena_ax, facecolor=\"green\", alpha=0.25)\nring_region.plot(arena_ax, facecolor=\"blue\", alpha=0.25)\n\n# Plot trajectories of the individuals\nmouse_names_and_colours = list(\n    zip(positions.individuals.values, [\"r\", \"g\", \"b\"], strict=False)\n)\nfor mouse_name, col in mouse_names_and_colours:\n    plot_centroid_trajectory(\n        positions,\n        individual=mouse_name,\n        ax=arena_ax,\n        linestyle=\"-\",\n        marker=\".\",\n        s=1,\n        c=col,\n        label=mouse_name,\n    )\narena_ax.set_title(\"Individual trajectories within the arena\")\narena_ax.legend()\n\narena_fig.show()"
      ]
    },
    {
      "cell_type": "markdown",
      "metadata": {},
      "source": [
        "At a glance, it looks like all the individuals remained inside the\nring-region for the duration of the experiment. We can verify this\nprogrammatically, by asking whether the ``ring_region``\ncontained the individuals' locations, at all recorded time-points.\n\n"
      ]
    },
    {
      "cell_type": "code",
      "execution_count": null,
      "metadata": {
        "collapsed": false
      },
      "outputs": [],
      "source": [
        "# This is a DataArray with dimensions: time, keypoint, and individual.\n# The values of the DataArray are True/False values, indicating if at the given\n# time, the keypoint of individual was inside ring_region.\nindividual_was_inside = ring_region.contains_point(positions)\nall_individuals_in_ring_at_all_times = individual_was_inside.all()\n\nif all_individuals_in_ring_at_all_times:\n    print(\n        \"All recorded positions, at all times,\\n\"\n        \"and for all individuals, were inside ring_region.\"\n    )\nelse:\n    print(\"At least one position was recorded outside the ring_region.\")"
      ]
    },
    {
      "cell_type": "markdown",
      "metadata": {},
      "source": [
        "## Compute the distance to the nest\nDefining RoIs means that we can efficiently extract information from our data\nthat depends on the location or relative position of an individual to an RoI.\nFor example, we might be interested in how the distance between an\nindividual and the nest region changes over the course of the experiment. We\ncan query the ``nest_region`` that we created for this information.\n\n"
      ]
    },
    {
      "cell_type": "code",
      "execution_count": null,
      "metadata": {
        "collapsed": false
      },
      "outputs": [],
      "source": [
        "# Compute all distances to the nest; for all times, keypoints, and\n# individuals.\ndistances_to_nest = nest_region.compute_distance_to(positions)\ndistances_fig, distances_ax = plt.subplots(1, 1)\nfor mouse_name, col in mouse_names_and_colours:\n    distances_ax.plot(\n        distances_to_nest.sel(individuals=mouse_name),\n        c=col,\n        label=mouse_name,\n    )\ndistances_ax.legend()\ndistances_ax.set_xlabel(\"Time (frames)\")\ndistances_ax.set_ylabel(\"Distance to nest_region (pixels)\")\ndistances_fig.show()"
      ]
    },
    {
      "cell_type": "markdown",
      "metadata": {},
      "source": [
        "We can see that the ``AEON38_TP2`` individual appears to be moving towards\nthe nest during the experiment, whilst the other two individuals are\nmoving away from the nest. The \"plateau\" in the figure between frames 200-400\nis when the individuals meet in the ``ring_region``, and remain largely\nstationary in a group until they can pass each other.\n\nOne other thing to note is that ``compute_distance_to`` is returning the\ndistance \"as the crow flies\" to the ``nest_region``. This means that\nstructures potentially in the way (such as the ``ring_region`` walls) are not\naccounted for in this distance calculation. Further to this, the \"distance to\na RoI\" should always be understood as \"the distance from a point to the\nclosest point within an RoI\".\n\nIf we wanted to check the direction of closest approach to a region, referred\nto as the **approach vector**, we can use the ``compute_approach_vector``\nmethod.\nThe distances that we computed via ``compute_distance_to`` are just the\nmagnitudes of the approach vectors.\n\n"
      ]
    },
    {
      "cell_type": "code",
      "execution_count": null,
      "metadata": {
        "collapsed": false
      },
      "outputs": [],
      "source": [
        "approach_vectors = nest_region.compute_approach_vector(positions)"
      ]
    },
    {
      "cell_type": "markdown",
      "metadata": {},
      "source": [
        "## The ``boundary_only`` keyword\nFrom our plot of the distances to the nest, we saw a time-window\nin which the individuals are grouped up, possibly trying to pass each other\nas they approach from different directions.\nWe might be interested in whether they move to opposite walls of the ring\nwhile doing so. To examine this, we can plot the distance between each\nindividual and the ``ring_region``, using the same commands as above.\n\nHowever, we get something slightly unexpected:\n\n"
      ]
    },
    {
      "cell_type": "code",
      "execution_count": null,
      "metadata": {
        "collapsed": false
      },
      "outputs": [],
      "source": [
        "distances_to_ring_wall = ring_region.compute_distance_to(positions)\ndistances_fig, distances_ax = plt.subplots(1, 1)\nfor mouse_name, col in mouse_names_and_colours:\n    distances_ax.plot(\n        distances_to_ring_wall.sel(individuals=mouse_name),\n        c=col,\n        label=mouse_name,\n    )\ndistances_ax.legend()\ndistances_ax.set_xlabel(\"Time (frames)\")\ndistances_ax.set_ylabel(\"Distance to closest ring_region wall (pixels)\")\n\nprint(\n    \"distances_to_ring_wall are all zero:\",\n    np.allclose(distances_to_ring_wall, 0.0),\n)\n\ndistances_fig.show()"
      ]
    },
    {
      "cell_type": "markdown",
      "metadata": {},
      "source": [
        "The distances are all zero because when a point is inside a region, the\nclosest point to it is itself.\n\nTo find distances to the ring's walls instead, we can use\n``boundary_only=True``, which tells ``movement`` to only look at points on\nthe boundary of the region, not inside it.\nNote that for 1D regions (``LineOfInterest``), the \"boundary\" is just the\nendpoints of the line.\n\nLet's try again with ``boundary_only=True``:\n\n"
      ]
    },
    {
      "cell_type": "code",
      "execution_count": null,
      "metadata": {
        "collapsed": false
      },
      "outputs": [],
      "source": [
        "distances_to_ring_wall = ring_region.compute_distance_to(\n    positions, boundary_only=True\n)\ndistances_fig, distances_ax = plt.subplots(1, 1)\nfor mouse_name, col in mouse_names_and_colours:\n    distances_ax.plot(\n        distances_to_ring_wall.sel(individuals=mouse_name),\n        c=col,\n        label=mouse_name,\n    )\ndistances_ax.legend()\ndistances_ax.set_xlabel(\"Time (frames)\")\ndistances_ax.set_ylabel(\"Distance to closest ring_region wall (pixels)\")\n\nprint(\n    \"distances_to_ring_wall are all zero:\",\n    np.allclose(distances_to_ring_wall, 0.0),\n)\n\ndistances_fig.show()"
      ]
    },
    {
      "cell_type": "markdown",
      "metadata": {},
      "source": [
        "The resulting plot looks much more like what we expect, but is again\nnot very helpful; we get the distance to the closest point on *either*\nthe interior or exterior wall of the ``ring_region``. This means that we\ncan't tell if the individuals do move to opposite walls when passing each\nother. Instead, let's ask for the distance  to just the exterior wall.\n\n"
      ]
    },
    {
      "cell_type": "code",
      "execution_count": null,
      "metadata": {
        "collapsed": false
      },
      "outputs": [],
      "source": [
        "# Note that the exterior_boundary of the ring_region is a 1D RoI (a series of\n# connected line segments). As such, boundary_only needs to be False.\ndistances_to_exterior = ring_region.exterior_boundary.compute_distance_to(\n    positions\n)\ndistances_exterior_fig, distances_exterior_ax = plt.subplots(1, 1)\nfor mouse_name, col in mouse_names_and_colours:\n    distances_exterior_ax.plot(\n        distances_to_exterior.sel(individuals=mouse_name),\n        c=col,\n        label=mouse_name,\n    )\ndistances_exterior_ax.legend()\ndistances_exterior_ax.set_xlabel(\"Time (frames)\")\ndistances_exterior_ax.set_ylabel(\"Distance to exterior wall (pixels)\")\ndistances_exterior_fig.show()"
      ]
    },
    {
      "cell_type": "markdown",
      "metadata": {},
      "source": [
        "This output is much more helpful. We see that the individuals are largely the\nsame distance from the exterior wall during frames 250-350, and then notice\nthat;\n\n- Individual ``AEON_TP1`` moves far away from the exterior wall,\n- ``AEON3B_NTP`` moves almost up to the exterior wall,\n- and ``AEON3B_TP2`` seems to remain between the other two individuals.\n\nAfter frame 400, the individuals appear to go back to chaotic distances from\nthe exterior wall again, which is consistent with them having passed each\nother in the ``ring_region`` and once again having the entire width of the\nring to explore.\n\n"
      ]
    },
    {
      "cell_type": "markdown",
      "metadata": {},
      "source": [
        "## Boundary angles\nHaving observed the individuals' behaviour as they pass one another in the\n``ring_region``, we can begin to ask questions about their orientation with\nrespect to the nest. ``movement`` currently supports the computation of two\nsuch \"boundary angles\";\n\n- The **allocentric boundary angle**. Given a region of interest $R$,\n  reference vector $\\vec{r}$ (such as global north), and a position\n  $p$ in space (e.g. the position of an individual), the allocentric\n  boundary angle is the signed angle between the approach vector from\n  $p$ to $R$, and $\\vec{r}$.\n- The **egocentric boundary angle**. Given a region of interest $R$, a\n  forward vector $\\vec{f}$ (e.g. the direction of travel of an\n  individual), and the point of origin of $\\vec{f}$ denoted $p$\n  (e.g. the individual's current position), the egocentric boundary angle is\n  the signed angle between the approach vector from $p$ to $R$,\n  and $\\vec{f}$.\n\nNote that egocentric angles are generally computed with changing frames of\nreference in mind - the forward vector may be varying in time as the\nindividual moves around the arena. By contrast, allocentric angles are always\ncomputed with respect to some fixed reference frame.\n\nFor the purposes of our example, we will define our \"forward vector\" as the\nvelocity vector between successive time-points, for each individual - we can\ncompute this from ``positions`` using the ``compute_velocity`` function in\n``movement.kinematics``.\nWe will also define our reference frame, or \"global north\" direction, to be\nthe direction of the positive x-axis.\n\n"
      ]
    },
    {
      "cell_type": "code",
      "execution_count": null,
      "metadata": {
        "collapsed": false
      },
      "outputs": [],
      "source": [
        "forward_vector = compute_velocity(positions)\nglobal_north = np.array([1.0, 0.0])\n\nallocentric_angles = nest_region.compute_allocentric_angle_to_nearest_point(\n    positions,\n    reference_vector=global_north,\n    in_degrees=True,\n)\negocentric_angles = nest_region.compute_egocentric_angle_to_nearest_point(\n    forward_vector,\n    positions[:-1],\n    in_degrees=True,\n)\n\nangle_plot, angle_ax = plt.subplots(2, 1, sharex=True)\nallo_ax, ego_ax = angle_ax\n\nfor mouse_name, col in mouse_names_and_colours:\n    allo_ax.plot(\n        allocentric_angles.sel(individuals=mouse_name),\n        c=col,\n        label=mouse_name,\n    )\n    ego_ax.plot(\n        egocentric_angles.sel(individuals=mouse_name),\n        c=col,\n        label=mouse_name,\n    )\n\nego_ax.set_xlabel(\"Time (frames)\")\n\nego_ax.set_ylabel(\"Egocentric angle (degrees)\")\nallo_ax.set_ylabel(\"Allocentric angle (degrees)\")\nallo_ax.legend()\n\nangle_plot.tight_layout()\nangle_plot.show()"
      ]
    },
    {
      "cell_type": "markdown",
      "metadata": {},
      "source": [
        "Allocentric angles show step-like behaviour because they only depend on an\nindividual's position relative to the RoI, not their forward vector. This\nmakes the allocentric angle graph resemble the distance-to-nest graph\n(inverted on the y-axis), with a \"plateau\" during frames 200-400 when the\nindividuals are (largely) stationary while passing each other.\n\nEgocentric angles, on the other hand, fluctuate more due to their sensitivity\nto changes in the forward vector. Outside frames 200-400, we see trends:\n\n- ``AEON3B_TP2`` moves counter-clockwise around the ring, so its egocentric\n  angle decreases ever so slightly with time - almost hitting an angle of 0\n  degrees as it moves along the direction of closest approach after passing\n  the other individuals.\n- The other two individuals move clockwise, so their angles show a\n  gradual increase with time. Because the two individuals occasionally get in\n  each others' way, we see frequent \"spikes\" in their egocentric angles as\n  their forward vectors rapidly change.\n\nDuring frames 200-400, rapid changes in direction cause large fluctuations in\nthe egocentric angles of all the individuals, reflecting the individuals'\nattempts to avoid colliding with (and to make space to move passed) each\nother.\n\n"
      ]
    }
  ],
  "metadata": {
    "kernelspec": {
      "display_name": "Python 3",
      "language": "python",
      "name": "python3"
    },
    "language_info": {
      "codemirror_mode": {
        "name": "ipython",
        "version": 3
      },
      "file_extension": ".py",
      "mimetype": "text/x-python",
      "name": "python",
      "nbconvert_exporter": "python",
      "pygments_lexer": "ipython3",
      "version": "3.12.10"
    }
  },
  "nbformat": 4,
  "nbformat_minor": 0
}