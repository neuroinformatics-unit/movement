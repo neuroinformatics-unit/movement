{
  "cells": [
    {
      "cell_type": "markdown",
      "metadata": {},
      "source": [
        "# Load and upsample bounding box tracks\n\nLoad bounding box tracks and upsample them to match the video frame rate.\n"
      ]
    },
    {
      "cell_type": "markdown",
      "metadata": {},
      "source": [
        "## Imports\n\n"
      ]
    },
    {
      "cell_type": "code",
      "execution_count": null,
      "metadata": {
        "collapsed": false
      },
      "outputs": [],
      "source": [
        "# For interactive plots: install ipympl with `pip install ipympl` and uncomment\n# the following line in your notebook\n# %matplotlib widget\nimport csv\nimport math\nimport os\n\nimport sleap_io as sio\nfrom matplotlib import pyplot as plt\n\nfrom movement import sample_data\nfrom movement.filtering import interpolate_over_time\nfrom movement.io import load_bboxes"
      ]
    },
    {
      "cell_type": "markdown",
      "metadata": {},
      "source": [
        "## Load sample dataset\nIn this tutorial, we will use a sample bounding boxes dataset with\na single individual (a crab). The clip is part of the [Moving\nCamouflaged Animals Dataset (MoCA) dataset](https://www.robots.ox.ac.uk/~vgg/data/MoCA/).\n\nWe will also download the associated video for visualising the data later.\n\n"
      ]
    },
    {
      "cell_type": "code",
      "execution_count": null,
      "metadata": {
        "collapsed": false
      },
      "outputs": [],
      "source": [
        "dataset_dict = sample_data.fetch_dataset_paths(\n    \"VIA_single-crab_MOCA-crab-1.csv\",\n    with_video=True,  # download associated video\n)\n\nfile_path = dataset_dict[\"bboxes\"]\nprint(file_path)\n\nds = load_bboxes.from_via_tracks_file(\n    file_path, use_frame_numbers_from_file=True\n)"
      ]
    },
    {
      "cell_type": "markdown",
      "metadata": {},
      "source": [
        "The loaded dataset is made up of three data arrays:\n``position``, ``shape``, and ``confidence``.\n\n"
      ]
    },
    {
      "cell_type": "code",
      "execution_count": null,
      "metadata": {
        "collapsed": false
      },
      "outputs": [],
      "source": [
        "print(ds)"
      ]
    },
    {
      "cell_type": "markdown",
      "metadata": {},
      "source": [
        "We can see that the coordinates in the time dimension are expressed in\nframes, and that we only have data for 1 in 5 frames of the video, plus\nthe last frame (frame number 167).\n\n"
      ]
    },
    {
      "cell_type": "code",
      "execution_count": null,
      "metadata": {
        "collapsed": false
      },
      "outputs": [],
      "source": [
        "print(ds.time)"
      ]
    },
    {
      "cell_type": "markdown",
      "metadata": {},
      "source": [
        "In the following sections of the notebook we will explore options to upsample\nthe dataset by filling in values for the video frames with no data.\n\n"
      ]
    },
    {
      "cell_type": "markdown",
      "metadata": {},
      "source": [
        "## Inspect associated video\nThe video associated to the data contains all 168 frames.\n\n"
      ]
    },
    {
      "cell_type": "code",
      "execution_count": null,
      "metadata": {
        "collapsed": false
      },
      "outputs": [],
      "source": [
        "video_path = dataset_dict[\"video\"]\n\nvideo = sio.load_video(video_path)\nn_frames, height, width, channels = video.shape\n\nprint(f\"Number of frames: {n_frames}\")\nprint(f\"Frame size: {width}x{height}\")\nprint(f\"Number of channels: {channels}\")"
      ]
    },
    {
      "cell_type": "markdown",
      "metadata": {},
      "source": [
        "Let's inspect the first 6 frames of the video for which we have\nannotations, and plot the annotated bounding box and centroid at each frame.\n\n"
      ]
    },
    {
      "cell_type": "code",
      "execution_count": null,
      "metadata": {
        "collapsed": false
      },
      "outputs": [],
      "source": [
        "# set last frame to plot\nend_frame_idx = 25\n# create list of frames to loop over with step=5\nlist_frames = list(range(0, end_frame_idx + 1, 5))\n\n# initialise figure\nfig = plt.figure(figsize=(8, 8))  # width, height\n\n# loop over selected frames and plot the data\nfor i, frame_idx in enumerate(list_frames):\n    # add subplot axes\n    ax = plt.subplot(math.ceil(len(list_frames) / 2), 2, i + 1)\n\n    # plot frame\n    ax.imshow(video[frame_idx])\n\n    # plot box at this frame\n    top_left_corner = (\n        ds.position.sel(time=frame_idx).data\n        - ds.shape.sel(time=frame_idx).data / 2\n    ).squeeze()\n\n    bbox = plt.Rectangle(\n        xy=tuple(top_left_corner),\n        width=ds.shape.sel(time=frame_idx, space=\"x\").item(),\n        height=ds.shape.sel(time=frame_idx, space=\"y\").item(),\n        edgecolor=\"red\",\n        facecolor=\"none\",\n        linewidth=1.5,\n        label=\"current frame\",\n    )\n    ax.add_patch(bbox)\n\n    # plot box's centroid at this frame with red ring\n    ax.scatter(\n        x=ds.position.sel(time=frame_idx, space=\"x\"),\n        y=ds.position.sel(time=frame_idx, space=\"y\"),\n        s=15,\n        color=\"red\",\n    )\n\n    # plot past centroid positions in blue\n    if frame_idx > 0:\n        ax.scatter(\n            x=ds.position.sel(time=slice(0, frame_idx - 1), space=\"x\"),\n            y=ds.position.sel(time=slice(0, frame_idx - 1), space=\"y\"),\n            s=10,\n            color=\"tab:blue\",\n            label=\"past frames\",\n        )\n\n    # plot future centroid positions in white\n    ax.scatter(\n        x=ds.position.sel(time=slice(frame_idx + 1, end_frame_idx), space=\"x\"),\n        y=ds.position.sel(time=slice(frame_idx + 1, end_frame_idx), space=\"y\"),\n        s=10,\n        color=\"white\",\n        label=\"future frames\",\n    )\n\n    # set title and labels\n    ax.set_title(f\"Frame {frame_idx}\")\n    ax.set_xlabel(\"x (pixles)\")\n    ax.set_ylabel(\"y (pixels)\")\n    ax.set_xlabel(\"\")\n    if frame_idx == 1:\n        ax.legend()\n\nfig.tight_layout()"
      ]
    },
    {
      "cell_type": "markdown",
      "metadata": {},
      "source": [
        "We used ``xarray``'s ``.sel()`` method to select the data for the\nrelevant frames directly.\n\nThe centroid at each frame is marked with a red marker. The past centroid\npositions are shown in blue and the future centroid positions in white.\nNote that in this case the camera is not static relative to the environment.\n\n"
      ]
    },
    {
      "cell_type": "markdown",
      "metadata": {},
      "source": [
        "## Fill in empty values with forward filling\nWe can fill in the frames with empty values for the  ``position`` and\n``shape`` arrays by taking the last valid value in time. In this way, a\nbox's position and shape stay constant if for a current frame the box\nhas no annotation defined.\n\n"
      ]
    },
    {
      "cell_type": "code",
      "execution_count": null,
      "metadata": {
        "collapsed": false
      },
      "outputs": [],
      "source": [
        "ds_ff = ds.reindex(\n    {\"time\": list(range(ds.time[-1].item() + 1))},\n    method=\"ffill\",  # propagate last valid index value forward\n)"
      ]
    },
    {
      "cell_type": "markdown",
      "metadata": {},
      "source": [
        "We can verify with a plot that the empty values have been filled in\nusing the last valid value in time.\n\nFor this we define a convenience function to plot the x and y coordinates\nof the ``position`` and  ``shape`` arrays, for the input dataset and for\na filled one.\n\n"
      ]
    },
    {
      "cell_type": "code",
      "execution_count": null,
      "metadata": {
        "collapsed": false
      },
      "outputs": [],
      "source": [
        "def plot_position_and_shape_xy_coords(ds_input_data, ds_filled, color_filled):\n    \"\"\"Compare the x and y coordinates of the position and shape arrays in time\n    for the input and filled datasets.\n    \"\"\"\n    fig, axs = plt.subplots(2, 2, figsize=(8, 6))\n    for row in range(axs.shape[0]):\n        space_coord = [\"x\", \"y\"][row]\n        for col in range(axs.shape[1]):\n            ax = axs[row, col]\n            data_array_str = [\"position\", \"shape\"][col]\n\n            # plot original data\n            ax.scatter(\n                x=ds_input_data.time,\n                y=ds_input_data[data_array_str].sel(\n                    individuals=\"id_1\", space=space_coord\n                ),\n                marker=\"o\",\n                color=\"black\",\n                label=\"original data\",\n            )\n\n            # plot forward filled data\n            ax.plot(\n                ds_filled.time,\n                ds_filled[data_array_str].sel(\n                    individuals=\"id_1\", space=space_coord\n                ),\n                marker=\".\",\n                linewidth=1,\n                color=color_filled,\n                label=\"upsampled data\",\n            )\n\n            # set axes labels and legend\n            ax.set_ylabel(f\"{space_coord} (pixels)\")\n            if row == 0:\n                ax.set_title(f\"Bounding box {data_array_str}\")\n                if col == 1:\n                    ax.legend()\n            if row == 1:\n                ax.set_xlabel(\"time (frames)\")\n\n    fig.tight_layout()"
      ]
    },
    {
      "cell_type": "markdown",
      "metadata": {},
      "source": [
        "In the plot below, the original ``position`` and ``shape`` data is shown\nin black, while the forward-filled values are shown in green.\n\n"
      ]
    },
    {
      "cell_type": "code",
      "execution_count": null,
      "metadata": {
        "collapsed": false
      },
      "outputs": [],
      "source": [
        "plot_position_and_shape_xy_coords(\n    ds, ds_filled=ds_ff, color_filled=\"tab:green\"\n)"
      ]
    },
    {
      "cell_type": "markdown",
      "metadata": {},
      "source": [
        "## Fill in empty values with NaN\nAlternatively, we can fill in the empty frames with NaN values.\nThis can be useful if we want to interpolate later.\n\n"
      ]
    },
    {
      "cell_type": "code",
      "execution_count": null,
      "metadata": {
        "collapsed": false
      },
      "outputs": [],
      "source": [
        "ds_nan = ds.reindex(\n    {\"time\": list(range(ds.time[-1].item() + 1))},\n    method=None,  # default\n)"
      ]
    },
    {
      "cell_type": "markdown",
      "metadata": {},
      "source": [
        "Like before, we can verify with a plot that the empty values have been\nfilled with NaN values.\n\n"
      ]
    },
    {
      "cell_type": "code",
      "execution_count": null,
      "metadata": {
        "collapsed": false
      },
      "outputs": [],
      "source": [
        "plot_position_and_shape_xy_coords(\n    ds, ds_filled=ds_nan, color_filled=\"tab:blue\"\n)"
      ]
    },
    {
      "cell_type": "markdown",
      "metadata": {},
      "source": [
        "We can further confirm we have NaNs where expected by printing the first few\nframes of the data.\n\n"
      ]
    },
    {
      "cell_type": "code",
      "execution_count": null,
      "metadata": {
        "collapsed": false
      },
      "outputs": [],
      "source": [
        "print(\"Position data array (first 10 frames):\")\nprint(ds_nan.position.isel(time=slice(0, 10), individuals=0).data)\nprint(\"----\")\nprint(\"Shape data array (first 10 frames):\")\nprint(ds_nan.shape.isel(time=slice(0, 10), individuals=0).data)"
      ]
    },
    {
      "cell_type": "markdown",
      "metadata": {},
      "source": [
        "## Linearly interpolate NaN values\nWe can instead fill in the empty values in the dataset by linearly\ninterpolating the ``position`` and ``shape`` data arrays. In this way,\nwe would be assuming that the centroid of the bounding box moves linearly\nbetween the two annotated values, and its width and height change linearly\nas well.\n\nWe use the dataset with NaN values as an input to the\n``interpolate_over_time`` function.\n\n"
      ]
    },
    {
      "cell_type": "code",
      "execution_count": null,
      "metadata": {
        "collapsed": false
      },
      "outputs": [],
      "source": [
        "ds_interp = ds_nan.copy()\n\nfor data_array_str in [\"position\", \"shape\"]:\n    ds_interp[data_array_str] = interpolate_over_time(\n        data=ds_interp[data_array_str],\n        method=\"linear\",\n        max_gap=None,\n        print_report=False,\n    )"
      ]
    },
    {
      "cell_type": "markdown",
      "metadata": {},
      "source": [
        "Like before, we can visually check that the empty data has been imputed as\nexpected by plotting the x and y coordinates of the ``position``\nand ``shape`` arrays\nin time.\n\n"
      ]
    },
    {
      "cell_type": "code",
      "execution_count": null,
      "metadata": {
        "collapsed": false
      },
      "outputs": [],
      "source": [
        "plot_position_and_shape_xy_coords(\n    ds, ds_filled=ds_interp, color_filled=\"tab:orange\"\n)"
      ]
    },
    {
      "cell_type": "markdown",
      "metadata": {},
      "source": [
        "The plot above shows that between the original data points (in black),\nthe data is assumed to evolve linearly (in orange).\n\n"
      ]
    },
    {
      "cell_type": "markdown",
      "metadata": {},
      "source": [
        "## Compare methods\nWe can now qualitatively compare the bounding boxes computed\nwith the three different filling methods we have seen: forward filling,\nNaN filling and linear interpolation\n\nIn the plot below, the NaN-filled data are plotted in blue, the forward\nfilled values are plotted in orange, and the linearly interpolated values\nare shown in green.\n\n"
      ]
    },
    {
      "cell_type": "code",
      "execution_count": null,
      "metadata": {
        "collapsed": false
      },
      "outputs": [],
      "source": [
        "# initialise figure\nfig = plt.figure(figsize=(8, 8))\n\nlist_colors = [\"tab:blue\", \"tab:green\", \"tab:orange\"]\n\n# loop over frames\nfor frame_idx in range(6):\n    # add subplot axes\n    ax = plt.subplot(3, 2, frame_idx + 1)\n\n    # plot frame\n    ax.imshow(video[frame_idx])\n\n    # plot bounding box for each dataset\n    for ds_i, ds_filled in enumerate([ds_nan, ds_ff, ds_interp]):\n        # plot box\n        top_left_corner = (\n            ds_filled.position.sel(time=frame_idx).data\n            - ds_filled.shape.sel(time=frame_idx).data / 2\n        ).squeeze()\n\n        bbox = plt.Rectangle(\n            xy=tuple(top_left_corner),\n            width=ds_filled.shape.sel(time=frame_idx, space=\"x\").item(),\n            height=ds_filled.shape.sel(time=frame_idx, space=\"y\").item(),\n            edgecolor=list_colors[ds_i],\n            facecolor=\"none\",\n            # make line for NaN dataset thicker and dotted\n            label=[\"nan\", \"ffill\", \"linear\"][ds_i],\n            linewidth=[8, 2.5, 2.5][ds_i],\n            linestyle=[\"dotted\", \"solid\", \"solid\"][ds_i],\n        )\n        ax.add_patch(bbox)\n\n        # plot centroid\n        ax.scatter(\n            x=ds_filled.position.sel(time=frame_idx, space=\"x\"),\n            y=ds_filled.position.sel(time=frame_idx, space=\"y\"),\n            s=20,\n            color=list_colors[ds_i],\n        )\n\n    # set title and labels\n    ax.set_title(f\"Frame {frame_idx}\")\n    ax.set_xlabel(\"x (pixels)\")\n    ax.set_ylabel(\"y (pixels)\")\n    if frame_idx == 0:\n        ax.legend()\n\nfig.tight_layout()"
      ]
    },
    {
      "cell_type": "markdown",
      "metadata": {},
      "source": [
        "## Export as .csv file\nLet's assume the dataset with the forward filled values is the best suited\nfor our task - we can now export the computed values to a .csv file\n\nNote that currently we do not provide explicit methods to export a\n``movement`` bounding boxes dataset in a specific format. However, we can\neasily save the bounding boxes\u2019 trajectories to a .csv file using the\nstandard Python library ``csv``.\n\n"
      ]
    },
    {
      "cell_type": "code",
      "execution_count": null,
      "metadata": {
        "collapsed": false
      },
      "outputs": [],
      "source": [
        "# define name for output csv file\nfilepath = \"tracking_output.csv\"\n\n# open the csv file in write mode\nwith open(filepath, mode=\"w\", newline=\"\") as file:\n    writer = csv.writer(file)\n\n    # write the header\n    writer.writerow([\"frame\", \"ID\", \"x\", \"y\", \"width\", \"height\"])\n\n    # write the data\n    for individual in ds_ff.individuals.data:\n        for frame in ds_ff.time.data:\n            x, y = ds_ff.position.sel(time=frame, individuals=individual).data\n            width, height = ds_ff.shape.sel(\n                time=frame, individuals=individual\n            ).data\n            writer.writerow([frame, individual, x, y, width, height])"
      ]
    },
    {
      "cell_type": "markdown",
      "metadata": {},
      "source": [
        "## Clean-up\nTo remove the output file we have just created, we can run the following\ncode.\n\n"
      ]
    },
    {
      "cell_type": "code",
      "execution_count": null,
      "metadata": {
        "collapsed": false
      },
      "outputs": [],
      "source": [
        "os.remove(filepath)"
      ]
    }
  ],
  "metadata": {
    "kernelspec": {
      "display_name": "Python 3",
      "language": "python",
      "name": "python3"
    },
    "language_info": {
      "codemirror_mode": {
        "name": "ipython",
        "version": 3
      },
      "file_extension": ".py",
      "mimetype": "text/x-python",
      "name": "python",
      "nbconvert_exporter": "python",
      "pygments_lexer": "ipython3",
      "version": "3.12.10"
    }
  },
  "nbformat": 4,
  "nbformat_minor": 0
}