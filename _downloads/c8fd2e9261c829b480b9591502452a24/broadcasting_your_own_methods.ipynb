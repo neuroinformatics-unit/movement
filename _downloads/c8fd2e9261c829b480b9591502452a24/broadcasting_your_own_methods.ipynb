{
  "cells": [
    {
      "cell_type": "markdown",
      "metadata": {},
      "source": [
        "# Extend your analysis methods along data dimensions\n\nLearn how to use the ``make_broadcastable`` decorator, to easily\ncast functions  across an entire ``xarray.DataArray``.\n"
      ]
    },
    {
      "cell_type": "markdown",
      "metadata": {},
      "source": [
        "## Imports\nWe will need ``numpy`` and ``xarray`` to make our custom data for this\nexample, and ``matplotlib`` to show what it contains.\nWe will be using the :mod:`movement.utils.broadcasting` module to\nturn our one-dimensional functions into functions that work across\nentire ``DataArray`` objects.\n\n"
      ]
    },
    {
      "cell_type": "code",
      "execution_count": null,
      "metadata": {
        "collapsed": false
      },
      "outputs": [],
      "source": [
        "# For interactive plots: install ipympl with `pip install ipympl` and uncomment\n# the following lines in your notebook\n# %matplotlib widget\nimport matplotlib.pyplot as plt\nimport numpy as np\nimport xarray as xr\n\nfrom movement import sample_data\nfrom movement.plots import plot_centroid_trajectory\nfrom movement.utils.broadcasting import make_broadcastable"
      ]
    },
    {
      "cell_type": "markdown",
      "metadata": {},
      "source": [
        "## Load Sample Dataset\nFirst, we load the ``SLEAP_three-mice_Aeon_proofread`` example dataset.\nFor the rest of this example we'll only need the ``position`` data array, so\nwe store it in a separate variable.\n\n"
      ]
    },
    {
      "cell_type": "code",
      "execution_count": null,
      "metadata": {
        "collapsed": false
      },
      "outputs": [],
      "source": [
        "ds = sample_data.fetch_dataset(\"SLEAP_three-mice_Aeon_proofread.analysis.h5\")\npositions: xr.DataArray = ds.position"
      ]
    },
    {
      "cell_type": "markdown",
      "metadata": {},
      "source": [
        "The individuals in this dataset follow very similar, arc-like trajectories.\nTo help emphasise what we are doing in this example, we will offset the paths\nof two of the individuals by a small amount so that the trajectories are more\ndistinct.\n\n"
      ]
    },
    {
      "cell_type": "code",
      "execution_count": null,
      "metadata": {
        "collapsed": false
      },
      "outputs": [],
      "source": [
        "positions.loc[:, \"y\", :, \"AEON3B_TP1\"] -= 100.0\npositions.loc[:, \"y\", :, \"AEON3B_TP2\"] += 100.0"
      ]
    },
    {
      "cell_type": "code",
      "execution_count": null,
      "metadata": {
        "collapsed": false
      },
      "outputs": [],
      "source": [
        "fig, ax = plt.subplots(1, 1)\nfor mouse_name, col in zip(\n    positions.individuals.values, [\"r\", \"g\", \"b\"], strict=False\n):\n    plot_centroid_trajectory(\n        positions,\n        individual=mouse_name,\n        keypoints=\"centroid\",\n        ax=ax,\n        linestyle=\"-\",\n        marker=\".\",\n        s=2,\n        linewidth=0.5,\n        c=col,\n        label=mouse_name,\n    )\nax.invert_yaxis()\nax.set_title(\"Trajectories\")\nax.set_xlabel(\"x (pixels)\")\nax.set_ylabel(\"y (pixels)\")\nax.legend()"
      ]
    },
    {
      "cell_type": "markdown",
      "metadata": {},
      "source": [
        "## Motivation\nSuppose that, during our experiment, we have a region of the enclosure that\nhas a slightly wet floor, making it slippery. The individuals must cross this\nregion in order to reach some kind of reward on the other side of the\nenclosure.\nWe know that the \"slippery region\" of our enclosure is approximately\nrectangular in shape, and has its opposite corners at (400, 0) and\n(600, 2000), where the coordinates are given in pixels.\nWe could then write a function that determines if a given (x, y) position was\ninside this \"slippery region\".\n\n"
      ]
    },
    {
      "cell_type": "code",
      "execution_count": null,
      "metadata": {
        "collapsed": false
      },
      "outputs": [],
      "source": [
        "def in_slippery_region(xy_position) -> bool:\n    \"\"\"Return True if xy_position is in the slippery region.\n\n    Return False otherwise.\n    xy_position has 2 elements, the (x, y) coordinates respectively.\n    \"\"\"\n    # The slippery region is a rectangle with the following bounds\n    x_min, y_min = 400.0, 0.0\n    x_max, y_max = 600.0, 2000.0\n\n    is_within_bounds_x = x_min <= xy_position[0] <= x_max\n    is_within_bounds_y = y_min < xy_position[1] <= y_max\n    return is_within_bounds_x and is_within_bounds_y\n\n\n# We can just check our function with a few sample points\nfor point in [(0, 100), (450, 700), (550, 1500), (601, 500)]:\n    print(f\"{point} is in slippery region: {in_slippery_region(point)}\")"
      ]
    },
    {
      "cell_type": "markdown",
      "metadata": {},
      "source": [
        "## Determine if each position was slippery\nGiven our data, we could extract whether each position (for each time-point,\nand each individual) was inside the slippery region by looping over the\nvalues.\n\n"
      ]
    },
    {
      "cell_type": "code",
      "execution_count": null,
      "metadata": {
        "collapsed": false
      },
      "outputs": [],
      "source": [
        "data_shape = positions.shape\nin_slippery = np.zeros(\n    shape=(\n        len(positions[\"time\"]),\n        len(positions[\"keypoints\"]),\n        len(positions[\"individuals\"]),\n    ),\n    dtype=bool,\n)  # We would save one result per time-point, per keypoint, per individual\n\n# Feel free to comment out the print statements\n# (line-by-line progress through the loop),\n# if you are running this code on your own machine.\nfor time_index, time in enumerate(positions[\"time\"].values):\n    # print(f\"At time {time}:\")\n    for keypoint_index, keypoint in enumerate(positions[\"keypoints\"].values):\n        # print(f\"\\tAt keypoint {keypoint}\")\n        for individual_index, individual in enumerate(\n            positions[\"individuals\"].values\n        ):\n            xy_point = positions.sel(\n                time=time,\n                keypoints=keypoint,\n                individuals=individual,\n            )\n            was_in_slippery = in_slippery_region(xy_point)\n            was_in_slippery_text = (\n                \"was in slippery region\"\n                if was_in_slippery\n                else \"was not in slippery region\"\n            )\n            # print(\n            #      \"\\t\\tIndividual \"\n            #      f\"{positions['individuals'].values[individual_index]} \"\n            #      f\"{was_in_slippery_text}\"\n            # )\n            # Save our result to our large array\n            in_slippery[time_index, keypoint_index, individual_index] = (\n                was_in_slippery\n            )"
      ]
    },
    {
      "cell_type": "markdown",
      "metadata": {},
      "source": [
        "We could then build a new ``DataArray`` to store our results, so that we can\naccess the results in the same way that we did our original data.\n\n"
      ]
    },
    {
      "cell_type": "code",
      "execution_count": null,
      "metadata": {
        "collapsed": false
      },
      "outputs": [],
      "source": [
        "was_in_slippery_region = xr.DataArray(\n    in_slippery,\n    dims=[\"time\", \"keypoints\", \"individuals\"],\n    coords={\n        \"time\": positions[\"time\"],\n        \"keypoints\": positions[\"keypoints\"],\n        \"individuals\": positions[\"individuals\"],\n    },\n)\n\nprint(\n    \"Boolean DataArray indicating if at a given time, \"\n    \"a given individual was inside the slippery region:\"\n)\nwas_in_slippery_region"
      ]
    },
    {
      "cell_type": "markdown",
      "metadata": {},
      "source": [
        "We could get the first and last time that an individual was inside the\nslippery region now, by examining this DataArray\n\n"
      ]
    },
    {
      "cell_type": "code",
      "execution_count": null,
      "metadata": {
        "collapsed": false
      },
      "outputs": [],
      "source": [
        "i_id = \"AEON3B_NTP\"\nindividual_0_centroid = was_in_slippery_region.sel(\n    individuals=i_id, keypoints=\"centroid\"\n)\nfirst_entry = individual_0_centroid[\"time\"][individual_0_centroid].values[0]\nlast_exit = individual_0_centroid[\"time\"][individual_0_centroid].values[-1]\nprint(\n    f\"{i_id} first entered the slippery region at \"\n    f\"{first_entry} and last exited at {last_exit}\"\n)"
      ]
    },
    {
      "cell_type": "markdown",
      "metadata": {},
      "source": [
        "## Data Generalisation Issues\nThe shape of the resulting ``DataArray`` is the same as our original\n``DataArray``, but without the ``\"space\"`` dimension.\nIndeed, we have essentially collapsed the ``\"space\"`` dimension, since our\n``in_slippery_region`` function takes in a 1D data slice (the x, y positions\nof a single individual's centroid at a given point in time) and returns a\nscalar value (True/False).\nHowever, the fact that we have to construct a new ``DataArray`` after running\nour function over all space slices in our ``DataArray`` is not scalable - our\n``for`` loop approach relied on knowing how many dimensions our data had (and\nthe size of those dimensions). We don't have a guarantee that the next\n``DataArray`` that comes in will have the same structure.\n\n"
      ]
    },
    {
      "cell_type": "markdown",
      "metadata": {},
      "source": [
        "## Making our Function Broadcastable\nTo combat this problem, we can make the observation that given any\n``DataArray``, we always want to broadcast our ``in_slippery_region``\nfunction\nalong the ``\"space\"`` dimension. By \"broadcast\", we mean that we always want\nto run our function for each 1D-slice in the ``\"space\"`` dimension, since\nthese are the (x, y) coordinates. As such, we can decorate our function with\nthe ``make_broadcastable`` decorator:\n\n"
      ]
    },
    {
      "cell_type": "code",
      "execution_count": null,
      "metadata": {
        "collapsed": false
      },
      "outputs": [],
      "source": [
        "@make_broadcastable()\ndef in_slippery_region_broadcastable(xy_position) -> float:\n    return in_slippery_region(xy_position=xy_position)"
      ]
    },
    {
      "cell_type": "markdown",
      "metadata": {},
      "source": [
        "Note that when writing your own methods, there is no need to have both\n``in_slippery_region`` and ``in_slippery_region_broadcastable``, simply apply\nthe ``make_broadcastable`` decorator to ``in_slippery_region`` directly.\nWe've made two separate functions here to illustrate what's going on.\n\n"
      ]
    },
    {
      "cell_type": "markdown",
      "metadata": {},
      "source": [
        "``in_slippery_region_broadcastable`` is usable in exactly the same ways as\n``in_slippery_region`` was:\n\n"
      ]
    },
    {
      "cell_type": "code",
      "execution_count": null,
      "metadata": {
        "collapsed": false
      },
      "outputs": [],
      "source": [
        "for point in [(0, 100), (450, 700), (550, 1500), (601, 500)]:\n    print(\n        f\"{point} is in slippery region: \"\n        f\"{in_slippery_region_broadcastable(point)}\"\n    )"
      ]
    },
    {
      "cell_type": "markdown",
      "metadata": {},
      "source": [
        "However, ``in_slippery_region_broadcastable`` also takes a ``DataArray`` as\nthe first (``xy_position``) argument, and an extra keyword argument\n``broadcast_dimension``. These arguments let us broadcast across the given\ndimension of the input ``DataArray``, treating each 1D-slice as a separate\ninput to ``in_slippery_region``.\n\n"
      ]
    },
    {
      "cell_type": "code",
      "execution_count": null,
      "metadata": {
        "collapsed": false
      },
      "outputs": [],
      "source": [
        "in_slippery_region_broadcasting = in_slippery_region_broadcastable(\n    positions,  # Now a DataArray input\n    broadcast_dimension=\"space\",\n)\n\nprint(\"DataArray output using broadcasting: \")\nin_slippery_region_broadcasting"
      ]
    },
    {
      "cell_type": "markdown",
      "metadata": {},
      "source": [
        "Calling ``in_slippery_region_broadcastable`` in this way gives us a\n``DataArray`` output - and one that retains any information that was in our\noriginal ``DataArray`` to boot! The result is exactly the same as what we got\nfrom using our ``for`` loop, and then adding the extra information to the\nresult.\n\n"
      ]
    },
    {
      "cell_type": "code",
      "execution_count": null,
      "metadata": {
        "collapsed": false
      },
      "outputs": [],
      "source": [
        "# Throws an AssertionError if the two inputs are not the same\nxr.testing.assert_equal(\n    was_in_slippery_region, in_slippery_region_broadcasting\n)"
      ]
    },
    {
      "cell_type": "markdown",
      "metadata": {},
      "source": [
        "But importantly, ``in_slippery_region_broadcastable`` also works on\n``DataArrays`` with different dimensions.\nFor example, we could have pre-selected one of our individuals beforehand.\n\n"
      ]
    },
    {
      "cell_type": "code",
      "execution_count": null,
      "metadata": {
        "collapsed": false
      },
      "outputs": [],
      "source": [
        "i_id = \"AEON3B_NTP\"\nindividual_0 = positions.sel(individuals=i_id)\n\nindividual_0_in_slippery_region = in_slippery_region_broadcastable(\n    individual_0,\n    broadcast_dimension=\"space\",\n)\n\nprint(\n    \"We get a 3D DataArray output from our 4D input, \"\n    \"again with the 'space' dimension that we broadcast along collapsed:\"\n)\nindividual_0_in_slippery_region"
      ]
    },
    {
      "cell_type": "markdown",
      "metadata": {},
      "source": [
        "## Additional Function Arguments\nSo far our ``in_slippery_region`` method only takes a single argument,\nthe ``xy_position`` itself. However in follow-up experiments, we might move\nthe slippery region in the enclosure, and so adapt our existing function to\nmake it more general.\nIt will now allow someone to input a custom rectangular region, by specifying\nthe minimum and maximum ``(x, y)`` coordinates of the rectangle, rather than\nrelying on fixed values inside the function.\nThe default region will be the rectangle from our first experiment, and we\nstill want to be able to broadcast this function.\nAnd so we write a more general function, as below.\n\n"
      ]
    },
    {
      "cell_type": "code",
      "execution_count": null,
      "metadata": {
        "collapsed": false
      },
      "outputs": [],
      "source": [
        "@make_broadcastable()\ndef in_slippery_region_general(\n    xy_position, xy_min=(400.0, 0.0), xy_max=(600.0, 2000.0)\n) -> bool:\n    \"\"\"Return True if xy_position is in the slippery region.\n\n    Return False otherwise.\n    xy_position has 2 elements, the (x, y) coordinates respectively.\n    \"\"\"\n    x_min, y_min = xy_min\n    x_max, y_max = xy_max\n    is_within_bounds_x = x_min <= xy_position[0] <= x_max\n    is_within_bounds_y = y_min <= xy_position[1] <= y_max\n    return is_within_bounds_x and is_within_bounds_y\n\n\n# (0.5, 0.5) is in the unit square whose bottom left corner is at the origin\nprint(in_slippery_region_general((0.5, 0.5), (0.0, 0.0), (1.0, 1.0)))\n# But (0.5,0.5) is not in a unit square whose bottom left corner is at (1,1)\nprint(in_slippery_region_general((0.5, 0.5), (1.0, 1.0), (2.0, 2.0)))"
      ]
    },
    {
      "cell_type": "markdown",
      "metadata": {},
      "source": [
        "We will find that ``make_broadcastable`` retains the additional arguments to\nthe function we define, however the ``xy_position`` argument has to be the\nfirst argument to the function, that appears in the ``def`` statement.\n\n"
      ]
    },
    {
      "cell_type": "code",
      "execution_count": null,
      "metadata": {
        "collapsed": false
      },
      "outputs": [],
      "source": [
        "# Default arguments should give us the same results as before\nxr.testing.assert_equal(\n    was_in_slippery_region, in_slippery_region_general(positions)\n)\n# But we can also provide the optional arguments in the same way as with the\n# un-decorated function.\nin_slippery_region_general(positions, xy_min=(100, 0), xy_max=(400, 1000))"
      ]
    },
    {
      "cell_type": "markdown",
      "metadata": {},
      "source": [
        "## Only Broadcast Along Select Dimensions\nThe ``make_broadcastable`` decorator has some flexibility with its input\narguments, to help you avoid unintentional behaviour. You may have noticed,\nfor example, that there is nothing stopping someone who wants to use your\nanalysis code from trying to broadcast along the wrong dimension.\n\n"
      ]
    },
    {
      "cell_type": "code",
      "execution_count": null,
      "metadata": {
        "collapsed": false
      },
      "outputs": [],
      "source": [
        "silly_broadcast = in_slippery_region_broadcastable(\n    positions, broadcast_dimension=\"time\"\n)\n\nprint(\"The output has collapsed the time dimension:\")\nsilly_broadcast"
      ]
    },
    {
      "cell_type": "markdown",
      "metadata": {},
      "source": [
        "There is no error thrown because functionally, this is a valid operation.\nThe time slices of our data were 1D, so we can run ``in_slippery_region`` on\nthem. But each slice isn't a position, it's an array of one spatial\ncoordinate (EG x) for each keypoint, each individual, at every time! So from\nan analysis standpoint, doing this doesn't make sense and isn't how we intend\nour function to be used.\n\nWe can pass the ``only_broadcastable_along`` keyword argument to\n``make_broadcastable`` to prevent these kinds of mistakes, and make our\nintentions clearer.\n\n"
      ]
    },
    {
      "cell_type": "code",
      "execution_count": null,
      "metadata": {
        "collapsed": false
      },
      "outputs": [],
      "source": [
        "@make_broadcastable(only_broadcastable_along=\"space\")\ndef in_slippery_region_space_only(xy_position):\n    return in_slippery_region(xy_position)"
      ]
    },
    {
      "cell_type": "markdown",
      "metadata": {},
      "source": [
        "Now, ``in_slippery_region_space_only`` no longer takes the\n``broadcast_dimension`` argument.\n\n"
      ]
    },
    {
      "cell_type": "code",
      "execution_count": null,
      "metadata": {
        "collapsed": false
      },
      "outputs": [],
      "source": [
        "try:\n    in_slippery_region_space_only(\n        positions,\n        broadcast_dimension=\"time\",\n    )\nexcept TypeError as e:\n    print(f\"Got a TypeError when trying to run, here's the message:\\n{e}\")"
      ]
    },
    {
      "cell_type": "markdown",
      "metadata": {},
      "source": [
        "The error we get seems to be telling us that we've tried to set the value of\n``broadcast_dimension`` twice. Specifying\n``only_broadcastable_along = \"space\"`` forces ``broadcast_dimension`` to be\nset to ``\"space\"``, so trying to set it again (even to to the same value)\nresults in an error.\nHowever, ``in_slippery_region_space_only`` knows to only use the ``\"space\"``\ndimension of the input by default.\n\n"
      ]
    },
    {
      "cell_type": "code",
      "execution_count": null,
      "metadata": {
        "collapsed": false
      },
      "outputs": [],
      "source": [
        "was_in_view_space_only = in_slippery_region_space_only(positions)\n\nxr.testing.assert_equal(\n    in_slippery_region_broadcasting, was_in_view_space_only\n)"
      ]
    },
    {
      "cell_type": "markdown",
      "metadata": {},
      "source": [
        "It is worth noting that there is a \"helper\" decorator,\n``space_broadcastable``, that essentially does the same thing as\n``make_broadcastable(only_broadcastable_along=\"space\")``.\nYou can use this decorator for your own convenience.\n\n"
      ]
    },
    {
      "cell_type": "markdown",
      "metadata": {},
      "source": [
        "## Extending to Class Methods\n``make_broadcastable`` can also be applied to class methods, though it needs\nto be told that you are doing so via the ``is_classmethod`` parameter.\n\n"
      ]
    },
    {
      "cell_type": "code",
      "execution_count": null,
      "metadata": {
        "collapsed": false
      },
      "outputs": [],
      "source": [
        "class Rectangle:\n    \"\"\"Represents an observing camera in the experiment.\"\"\"\n\n    xy_min: tuple[float, float]\n    xy_max: tuple[float, float]\n\n    def __init__(self, xy_min=(0.0, 0.0), xy_max=(1.0, 1.0)):\n        \"\"\"Create a new instance.\"\"\"\n        self.xy_min = tuple(xy_min)\n        self.xy_max = tuple(xy_max)\n\n    @make_broadcastable(is_classmethod=True, only_broadcastable_along=\"space\")\n    def is_inside(self, /, xy_position) -> bool:\n        \"\"\"Whether the position is inside the rectangle.\"\"\"\n        # For the sake of brevity, we won't redefine the entire method here,\n        # and will just call our existing function.\n        return in_slippery_region_general(\n            xy_position, self.xy_min, self.xy_max\n        )\n\n\nslippery_region = Rectangle(xy_min=(400.0, 0.0), xy_max=(600.0, 2000.0))\nwas_in_region_clsmethod = slippery_region.is_inside(positions)\n\nxr.testing.assert_equal(\n    was_in_region_clsmethod, in_slippery_region_broadcasting\n)"
      ]
    },
    {
      "cell_type": "markdown",
      "metadata": {},
      "source": [
        "The ``broadcastable_method`` decorator is provided as a helpful alias for\n``make_broadcastable(is_classmethod=True)``, and otherwise works in the same\nway (and accepts the same parameters).\n\n"
      ]
    },
    {
      "cell_type": "code",
      "execution_count": null,
      "metadata": {
        "collapsed": false
      },
      "outputs": [],
      "source": [
        "class RectangleAlternative:\n    \"\"\"Represents an observing camera in the experiment.\"\"\"\n\n    xy_min: tuple[float, float]\n    xy_max: tuple[float, float]\n\n    def __init__(self, xy_min=(0.0, 0.0), xy_max=(1.0, 1.0)):\n        \"\"\"Create a new instance.\"\"\"\n        self.xy_min = tuple(xy_min)\n        self.xy_max = tuple(xy_max)\n\n    @make_broadcastable(is_classmethod=True, only_broadcastable_along=\"space\")\n    def is_inside(self, /, xy_position) -> bool:\n        \"\"\"Whether the position is inside the rectangle.\"\"\"\n        # For the sake of brevity, we won't redefine the entire method here,\n        # and will just call our existing function.\n        return in_slippery_region_general(\n            xy_position, self.xy_min, self.xy_max\n        )\n\n\nslippery_region_alt = RectangleAlternative(\n    xy_min=(400.0, 0.0), xy_max=(600.0, 2000.0)\n)\nwas_in_region_clsmethod_alt = slippery_region.is_inside(positions)\n\nxr.testing.assert_equal(\n    was_in_region_clsmethod_alt, in_slippery_region_broadcasting\n)\n\nxr.testing.assert_equal(was_in_region_clsmethod_alt, was_in_region_clsmethod)"
      ]
    },
    {
      "cell_type": "markdown",
      "metadata": {},
      "source": [
        "In fact, if you look at the Regions of Interest submodule, and in particular\nthe classes inside it, you'll notice that we use the ``broadcastable_method``\ndecorator ourselves in some of these methods!\n\n"
      ]
    }
  ],
  "metadata": {
    "kernelspec": {
      "display_name": "Python 3",
      "language": "python",
      "name": "python3"
    },
    "language_info": {
      "codemirror_mode": {
        "name": "ipython",
        "version": 3
      },
      "file_extension": ".py",
      "mimetype": "text/x-python",
      "name": "python",
      "nbconvert_exporter": "python",
      "pygments_lexer": "ipython3",
      "version": "3.12.10"
    }
  },
  "nbformat": 4,
  "nbformat_minor": 0
}